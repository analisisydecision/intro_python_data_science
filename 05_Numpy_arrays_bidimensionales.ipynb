{
 "cells": [
  {
   "cell_type": "markdown",
   "metadata": {},
   "source": [
    "# Arrays bidimensionales con Numpy"
   ]
  },
  {
   "cell_type": "markdown",
   "metadata": {},
   "source": [
    "## Datos multidimensionales"
   ]
  },
  {
   "cell_type": "markdown",
   "metadata": {},
   "source": [
    "Podemos hacerlo de varias formas, una de ellas es una lista de listas."
   ]
  },
  {
   "cell_type": "code",
   "execution_count": 2,
   "metadata": {},
   "outputs": [
    {
     "name": "stdout",
     "output_type": "stream",
     "text": [
      "[[ 1  2  3  4]\n",
      " [ 5  6  7  8]\n",
      " [ 9 10 11 12]]\n"
     ]
    }
   ],
   "source": [
    "import numpy as np\n",
    "m = np.array([[1, 2, 3, 4], [5, 6, 7, 8], [9, 10, 11, 12]])\n",
    "print (m)"
   ]
  },
  {
   "cell_type": "markdown",
   "metadata": {},
   "source": [
    "Podemos obtener la dimensión de un array multidimensional con <code>shape</code>, y el número de dimensiones con <code>ndim</code>."
   ]
  },
  {
   "cell_type": "code",
   "execution_count": 4,
   "metadata": {},
   "outputs": [
    {
     "name": "stdout",
     "output_type": "stream",
     "text": [
      "(3, 4)\n",
      "2\n"
     ]
    }
   ],
   "source": [
    "print (m.shape)\n",
    "print (m.ndim)"
   ]
  },
  {
   "cell_type": "markdown",
   "metadata": {},
   "source": [
    "Podemos crear matrices con el  **shape** que necesitemos."
   ]
  },
  {
   "cell_type": "code",
   "execution_count": 12,
   "metadata": {},
   "outputs": [
    {
     "name": "stdout",
     "output_type": "stream",
     "text": [
      "[[1. 1. 1. 1. 1. 1. 1.]\n",
      " [1. 1. 1. 1. 1. 1. 1.]\n",
      " [1. 1. 1. 1. 1. 1. 1.]]\n"
     ]
    }
   ],
   "source": [
    "ones = np.ones((3, 7))\n",
    "print (ones)"
   ]
  },
  {
   "cell_type": "markdown",
   "metadata": {},
   "source": [
    "Podemos usar las mismas funciones en los arrays multidimensionales y en los unidimensionales."
   ]
  },
  {
   "cell_type": "code",
   "execution_count": 13,
   "metadata": {},
   "outputs": [
    {
     "name": "stdout",
     "output_type": "stream",
     "text": [
      "42.0\n",
      "[[2. 2. 2. 2. 2. 2. 2.]\n",
      " [2. 2. 2. 2. 2. 2. 2.]\n",
      " [2. 2. 2. 2. 2. 2. 2.]]\n"
     ]
    }
   ],
   "source": [
    "ones.fill(2)\n",
    "print (ones.sum())\n",
    "print (ones)"
   ]
  },
  {
   "cell_type": "markdown",
   "metadata": {},
   "source": [
    "## Índices y subconjuntos"
   ]
  },
  {
   "cell_type": "markdown",
   "metadata": {},
   "source": [
    "Un índice simple nos permite obtener un registro, un índice múltiple nos permite obtener un dato."
   ]
  },
  {
   "cell_type": "code",
   "execution_count": 8,
   "metadata": {},
   "outputs": [
    {
     "name": "stdout",
     "output_type": "stream",
     "text": [
      "[ 9 10 11 12]\n",
      "11\n",
      "11\n"
     ]
    }
   ],
   "source": [
    "print (m[2])\n",
    "print (m[2][2])\n",
    "print (m[2,2])"
   ]
  },
  {
   "cell_type": "markdown",
   "metadata": {},
   "source": [
    "Podemos particionar el array usando los índices."
   ]
  },
  {
   "cell_type": "code",
   "execution_count": 15,
   "metadata": {},
   "outputs": [
    {
     "name": "stdout",
     "output_type": "stream",
     "text": [
      "[[ 2.  2.  2.  2.  2. 10. 10.]\n",
      " [ 2.  2.  2.  2.  2. 10. 10.]\n",
      " [ 2.  2.  2.  2.  2. 10. 10.]]\n"
     ]
    }
   ],
   "source": [
    "# Las columnas 6 y 7 serán reemplazadas con el valor 10\n",
    "ones[:,5:7].fill(10)\n",
    "print (ones)"
   ]
  },
  {
   "cell_type": "code",
   "execution_count": 18,
   "metadata": {},
   "outputs": [
    {
     "name": "stdout",
     "output_type": "stream",
     "text": [
      "[[   1    2  300    4]\n",
      " [   0    0    0    0]\n",
      " [   9   10 1100   12]]\n",
      "[[   1    2  300    4]\n",
      " [   0    0    0    0]\n",
      " [   9   10 1100   12]]\n"
     ]
    }
   ],
   "source": [
    "# A partir de la tercera columna multiplicamos por 10.\n",
    "m[:, 2] = m[:,2]*10\n",
    "print (m)\n",
    "\n",
    "# El segundo registro será todo 0\n",
    "m[1,:] = 0\n",
    "print (m)"
   ]
  },
  {
   "cell_type": "markdown",
   "metadata": {},
   "source": [
    "Del mismo modo podemos trabajar con matrices booleanas."
   ]
  },
  {
   "cell_type": "code",
   "execution_count": 21,
   "metadata": {},
   "outputs": [
    {
     "name": "stdout",
     "output_type": "stream",
     "text": [
      "[[   1    2  300    4]\n",
      " [   0    0    0    0]\n",
      " [   9   10 1100   12]]\n",
      "[[False False  True False]\n",
      " [False False False False]\n",
      " [False False  True  True]]\n",
      "[ 1  2  4  0  0  0  0  9 10]\n"
     ]
    }
   ],
   "source": [
    "#Matriz booleana donde el valor verdadero será el valor mayor de 10 en la matriz\n",
    "print(m)\n",
    "sel = m >10 \n",
    "print (sel)\n",
    "\n",
    "# Obtenemos un array con todos aquellos elementos de la matriz que son falsos.\n",
    "a = m[sel == False]\n",
    "print (a)"
   ]
  },
  {
   "cell_type": "markdown",
   "metadata": {},
   "source": [
    "## Operando en distintos índices"
   ]
  },
  {
   "cell_type": "markdown",
   "metadata": {},
   "source": [
    "Las operaciones matriciales estadísticas se llevan a cabo por **índice**."
   ]
  },
  {
   "cell_type": "code",
   "execution_count": 23,
   "metadata": {},
   "outputs": [
    {
     "data": {
      "text/plain": [
       "array([15,  5,  7, 13, 19,  5, 13,  1,  5, 11, 15, 11, 10,  1, 13, 16, 18,\n",
       "       12])"
      ]
     },
     "execution_count": 23,
     "metadata": {},
     "output_type": "execute_result"
    }
   ],
   "source": [
    "#Array de 18 elementos con números enteros aleatorios entre el 1 y el 20\n",
    "mat = np.random.randint(1, 20, 18)\n",
    "mat"
   ]
  },
  {
   "cell_type": "code",
   "execution_count": 25,
   "metadata": {},
   "outputs": [
    {
     "data": {
      "text/plain": [
       "array([[15,  5,  7],\n",
       "       [13, 19,  5],\n",
       "       [13,  1,  5],\n",
       "       [11, 15, 11],\n",
       "       [10,  1, 13],\n",
       "       [16, 18, 12]])"
      ]
     },
     "execution_count": 25,
     "metadata": {},
     "output_type": "execute_result"
    }
   ],
   "source": [
    "#Transformamos el array en una matriz de 6 filas x 3 columnas\n",
    "mat = mat.reshape((6,3))\n",
    "mat"
   ]
  },
  {
   "cell_type": "code",
   "execution_count": 26,
   "metadata": {},
   "outputs": [
    {
     "data": {
      "text/plain": [
       "190"
      ]
     },
     "execution_count": 26,
     "metadata": {},
     "output_type": "execute_result"
    }
   ],
   "source": [
    "mat.sum()"
   ]
  },
  {
   "cell_type": "markdown",
   "metadata": {},
   "source": [
    "Sumamos las 6 filas (fila axis=1)"
   ]
  },
  {
   "cell_type": "code",
   "execution_count": 27,
   "metadata": {},
   "outputs": [
    {
     "data": {
      "text/plain": [
       "array([27, 37, 19, 37, 24, 46])"
      ]
     },
     "execution_count": 27,
     "metadata": {},
     "output_type": "execute_result"
    }
   ],
   "source": [
    "mat.sum(axis=1)"
   ]
  },
  {
   "cell_type": "markdown",
   "metadata": {},
   "source": [
    "Sumamos las 3 columnas (axis=0)"
   ]
  },
  {
   "cell_type": "code",
   "execution_count": 29,
   "metadata": {},
   "outputs": [
    {
     "data": {
      "text/plain": [
       "array([78, 59, 53])"
      ]
     },
     "execution_count": 29,
     "metadata": {},
     "output_type": "execute_result"
    }
   ],
   "source": [
    "mat.sum(axis=0)"
   ]
  },
  {
   "cell_type": "markdown",
   "metadata": {},
   "source": [
    "## Transposición "
   ]
  },
  {
   "cell_type": "markdown",
   "metadata": {},
   "source": [
    "NumPy arrays can be reshaped easily."
   ]
  },
  {
   "cell_type": "code",
   "execution_count": 33,
   "metadata": {},
   "outputs": [
    {
     "name": "stdout",
     "output_type": "stream",
     "text": [
      "(15,)\n",
      "[[20.         20.71428571 21.42857143]\n",
      " [22.14285714 22.85714286 23.57142857]\n",
      " [24.28571429 25.         25.71428571]\n",
      " [26.42857143 27.14285714 27.85714286]\n",
      " [28.57142857 29.28571429 30.        ]]\n",
      "(5, 3)\n"
     ]
    }
   ],
   "source": [
    "#array 15 números entre 20 y 30\n",
    "m1 = np.linspace(20,30, 15)\n",
    "print (m1.shape)\n",
    "\n",
    "#Transformamos el array en matriz\n",
    "m1 = m1.reshape((5, 3)) # You have to pass a tuple\n",
    "print (m1)\n",
    "print (m1.shape)"
   ]
  },
  {
   "cell_type": "markdown",
   "metadata": {},
   "source": [
    "Transposición de matrices."
   ]
  },
  {
   "cell_type": "code",
   "execution_count": 35,
   "metadata": {},
   "outputs": [
    {
     "name": "stdout",
     "output_type": "stream",
     "text": [
      "[[20.         22.14285714 24.28571429 26.42857143 28.57142857]\n",
      " [20.71428571 22.85714286 25.         27.14285714 29.28571429]\n",
      " [21.42857143 23.57142857 25.71428571 27.85714286 30.        ]]\n"
     ]
    }
   ],
   "source": [
    "print (m1.T)"
   ]
  }
 ],
 "metadata": {
  "anaconda-cloud": {},
  "kernelspec": {
   "display_name": "Python 3",
   "language": "python",
   "name": "python3"
  },
  "language_info": {
   "codemirror_mode": {
    "name": "ipython",
    "version": 3
   },
   "file_extension": ".py",
   "mimetype": "text/x-python",
   "name": "python",
   "nbconvert_exporter": "python",
   "pygments_lexer": "ipython3",
   "version": "3.7.0"
  }
 },
 "nbformat": 4,
 "nbformat_minor": 1
}
