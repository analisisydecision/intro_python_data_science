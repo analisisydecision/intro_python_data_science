{
 "cells": [
  {
   "cell_type": "markdown",
   "metadata": {},
   "source": [
    "# Arrays unidimensionales con NumPy"
   ]
  },
  {
   "cell_type": "markdown",
   "metadata": {},
   "source": [
    "## ¿Qué es NumPy? "
   ]
  },
  {
   "cell_type": "markdown",
   "metadata": {},
   "source": [
    "Numerical Python (NumPy) es una librería Python que nos permite trabajar con estructuras algebraicas complejas de modo eficiente: el <code>ndarray</code> es un vector numérico. La documentación de NumPy está disponible <a href=\"http://www.numpy.org/\">aquí</a>."
   ]
  },
  {
   "cell_type": "markdown",
   "metadata": {},
   "source": [
    "## Primeros arrays"
   ]
  },
  {
   "cell_type": "markdown",
   "metadata": {},
   "source": [
    "Para la creación de arrays emplearemos las instrucciones: <code>array</code>, <code>arange</code>, <code>ones</code>, <code>zeros</code> or <code>empty</code>. "
   ]
  },
  {
   "cell_type": "code",
   "execution_count": 1,
   "metadata": {},
   "outputs": [
    {
     "name": "stdout",
     "output_type": "stream",
     "text": [
      "[10  5  6  8 -2]\n",
      "[10  5  6  9 -2]\n"
     ]
    }
   ],
   "source": [
    "import numpy as np # np como alias es habitual\n",
    "# Pasamos a la creación de los arrays:\n",
    "L = [10, 5, 6, 8, -2]\n",
    "T = (10, 5, 6, 9, -2)\n",
    "a = np.array(L)\n",
    "b = np.array(T)\n",
    "print(a)\n",
    "print( b)\n"
   ]
  },
  {
   "cell_type": "code",
   "execution_count": 2,
   "metadata": {},
   "outputs": [
    {
     "data": {
      "text/plain": [
       "array([1.21697273e-152, 2.63699027e+092, 3.65881510e+233, 1.37805713e-070,\n",
       "       4.53580003e+217, 2.86750348e+161, 5.98129759e-154, 1.15312596e+214,\n",
       "       2.47379808e-091, 1.18600496e-259])"
      ]
     },
     "execution_count": 2,
     "metadata": {},
     "output_type": "execute_result"
    }
   ],
   "source": [
    "# creación de un array vacío pero no necesariamente 0.\n",
    "nothing = np.empty(10)\n",
    "nothing"
   ]
  },
  {
   "cell_type": "markdown",
   "metadata": {},
   "source": [
    "La función <code>ones_like</code> nos permite crear arrays con la misma longitud."
   ]
  },
  {
   "cell_type": "code",
   "execution_count": 3,
   "metadata": {},
   "outputs": [
    {
     "data": {
      "text/plain": [
       "array([1, 1, 1, 1, 1, 1, 1])"
      ]
     },
     "execution_count": 3,
     "metadata": {},
     "output_type": "execute_result"
    }
   ],
   "source": [
    "#Create an array of ones with the same lenght as this one:\n",
    "L = [2, 3, 4, 6, 4, 3, 2]\n",
    "b = np.ones(len(L))\n",
    "a = np.ones_like(L)\n",
    "a"
   ]
  },
  {
   "cell_type": "markdown",
   "metadata": {},
   "source": [
    "Con la función <code>arange</code> creamos rangos."
   ]
  },
  {
   "cell_type": "code",
   "execution_count": 6,
   "metadata": {},
   "outputs": [
    {
     "data": {
      "text/plain": [
       "array([200, 202, 204, 206, 208, 210, 212, 214, 216, 218, 220, 222, 224,\n",
       "       226, 228, 230, 232, 234, 236, 238, 240, 242, 244, 246, 248, 250])"
      ]
     },
     "execution_count": 6,
     "metadata": {},
     "output_type": "execute_result"
    }
   ],
   "source": [
    "# Creamos un array entre 200 y 250 de 2 en 2.\n",
    "a = np.arange(200, 251, 2)\n",
    "a"
   ]
  },
  {
   "cell_type": "markdown",
   "metadata": {},
   "source": [
    "La función <a href=\"http://docs.scipy.org/doc/numpy/reference/generated/numpy.linspace.html\">linspace</a> nos permite crear intervalos."
   ]
  },
  {
   "cell_type": "code",
   "execution_count": 7,
   "metadata": {},
   "outputs": [
    {
     "data": {
      "text/plain": [
       "array([2.  , 2.25, 2.5 , 2.75, 3.  ])"
      ]
     },
     "execution_count": 7,
     "metadata": {},
     "output_type": "execute_result"
    }
   ],
   "source": [
    "np.linspace(2.0, 3.0, num=5)"
   ]
  },
  {
   "cell_type": "markdown",
   "metadata": {},
   "source": [
    "## Arrays have types"
   ]
  },
  {
   "cell_type": "markdown",
   "metadata": {},
   "source": [
    "Mediante <code>dtype</code> Obtenemos los atributos de un array."
   ]
  },
  {
   "cell_type": "code",
   "execution_count": 7,
   "metadata": {},
   "outputs": [
    {
     "name": "stdout",
     "output_type": "stream",
     "text": [
      "<type 'numpy.float64'>\n",
      "[ 1.  1.  1.  1.  1.]\n",
      "float64\n",
      "8\n"
     ]
    }
   ],
   "source": [
    "ones = np.ones(5)\n",
    "print type(ones[0])\n",
    "print ones\n",
    "print ones.dtype\n",
    "print ones.itemsize"
   ]
  },
  {
   "cell_type": "markdown",
   "metadata": {},
   "source": [
    "Los arrays solo pueden estar compuestos de un tipo. "
   ]
  },
  {
   "cell_type": "code",
   "execution_count": 8,
   "metadata": {},
   "outputs": [
    {
     "name": "stdout",
     "output_type": "stream",
     "text": [
      "float64\n"
     ]
    }
   ],
   "source": [
    "L = [1, 4.6, 5]\n",
    "a = np.array(L)\n",
    "print( a.dtype)"
   ]
  },
  {
   "cell_type": "markdown",
   "metadata": {},
   "source": [
    "Podemos indicar el tipo de elemento implicitamente."
   ]
  },
  {
   "cell_type": "code",
   "execution_count": 9,
   "metadata": {},
   "outputs": [
    {
     "name": "stdout",
     "output_type": "stream",
     "text": [
      "int32\n",
      "[1 4 5]\n"
     ]
    }
   ],
   "source": [
    "#What happened with the numbers? \n",
    "L = [1, 4.6, 5]\n",
    "a = np.array(L, dtype=\"int32\")\n",
    "print( a.dtype)\n",
    "print( a)"
   ]
  },
  {
   "cell_type": "markdown",
   "metadata": {},
   "source": [
    "Los elemento de NumPy no son necesariamente los mismos que los tipos de Python. "
   ]
  },
  {
   "cell_type": "code",
   "execution_count": 10,
   "metadata": {},
   "outputs": [
    {
     "name": "stdout",
     "output_type": "stream",
     "text": [
      "<U12\n"
     ]
    }
   ],
   "source": [
    "L = [\"this\", \"is\", \"an\", \"array555rrrr\"]\n",
    "a = np.array(L)\n",
    "print (a.dtype)\n",
    "#Se recomienda mirar la documentación para conocer los tipos. "
   ]
  },
  {
   "cell_type": "markdown",
   "metadata": {},
   "source": [
    "Con <code>as_type</code> podemos modificar el tipo de array."
   ]
  },
  {
   "cell_type": "code",
   "execution_count": 12,
   "metadata": {},
   "outputs": [
    {
     "name": "stdout",
     "output_type": "stream",
     "text": [
      "[5 4 3]\n",
      "nan\n",
      "['23' '12' 'nan' '32' '10']\n"
     ]
    },
    {
     "ename": "ValueError",
     "evalue": "invalid literal for int() with base 10: 'nan'",
     "output_type": "error",
     "traceback": [
      "\u001b[1;31m---------------------------------------------------------------------------\u001b[0m",
      "\u001b[1;31mValueError\u001b[0m                                Traceback (most recent call last)",
      "\u001b[1;32m<ipython-input-12-607f347cb611>\u001b[0m in \u001b[0;36m<module>\u001b[1;34m()\u001b[0m\n\u001b[0;32m      8\u001b[0m \u001b[0ma\u001b[0m \u001b[1;33m=\u001b[0m \u001b[0mnp\u001b[0m\u001b[1;33m.\u001b[0m\u001b[0marray\u001b[0m\u001b[1;33m(\u001b[0m\u001b[1;33m[\u001b[0m\u001b[1;34m\"23\"\u001b[0m\u001b[1;33m,\u001b[0m \u001b[1;34m\"12\"\u001b[0m\u001b[1;33m,\u001b[0m \u001b[0mnp\u001b[0m\u001b[1;33m.\u001b[0m\u001b[0mnan\u001b[0m\u001b[1;33m,\u001b[0m \u001b[1;34m\"32\"\u001b[0m\u001b[1;33m,\u001b[0m \u001b[1;34m\"10\"\u001b[0m\u001b[1;33m]\u001b[0m\u001b[1;33m)\u001b[0m\u001b[1;33m\u001b[0m\u001b[0m\n\u001b[0;32m      9\u001b[0m \u001b[0mprint\u001b[0m \u001b[1;33m(\u001b[0m\u001b[0ma\u001b[0m\u001b[1;33m)\u001b[0m\u001b[1;33m\u001b[0m\u001b[0m\n\u001b[1;32m---> 10\u001b[1;33m \u001b[0mb\u001b[0m \u001b[1;33m=\u001b[0m \u001b[0ma\u001b[0m\u001b[1;33m.\u001b[0m\u001b[0mastype\u001b[0m\u001b[1;33m(\u001b[0m\u001b[0mnp\u001b[0m\u001b[1;33m.\u001b[0m\u001b[0mint32\u001b[0m\u001b[1;33m)\u001b[0m\u001b[1;33m\u001b[0m\u001b[0m\n\u001b[0m",
      "\u001b[1;31mValueError\u001b[0m: invalid literal for int() with base 10: 'nan'"
     ]
    }
   ],
   "source": [
    "#Convertimos de tipo coma a entero:\n",
    "a = np.array([5.7, 4.2, 3.0])\n",
    "b = a.astype(np.int32)\n",
    "print(b)\n",
    "print(np.nan)\n",
    "\n",
    "#Obtendremos un error con el valor perdido:\n",
    "a = np.array([\"23\", \"12\", np.nan, \"32\", \"10\"])\n",
    "print (a)\n",
    "b = a.astype(np.int32)"
   ]
  },
  {
   "cell_type": "markdown",
   "metadata": {},
   "source": [
    "## Trabajo con vectores"
   ]
  },
  {
   "cell_type": "markdown",
   "metadata": {},
   "source": [
    "Las operaciones con arrays serán operaciones vectoriales."
   ]
  },
  {
   "cell_type": "code",
   "execution_count": 13,
   "metadata": {},
   "outputs": [
    {
     "name": "stdout",
     "output_type": "stream",
     "text": [
      "[2. 2. 2. 2. 2. 2. 2. 2. 2. 2.]\n"
     ]
    }
   ],
   "source": [
    "x = np.ones(10)\n",
    "x = x*2\n",
    "print( x)"
   ]
  },
  {
   "cell_type": "markdown",
   "metadata": {},
   "source": [
    "Si los arrays tienen la misma dimensión podemos operar entre ellos."
   ]
  },
  {
   "cell_type": "code",
   "execution_count": 14,
   "metadata": {},
   "outputs": [
    {
     "data": {
      "text/plain": [
       "array([3., 3., 3., 3., 3., 3., 3., 3., 3., 3.])"
      ]
     },
     "execution_count": 14,
     "metadata": {},
     "output_type": "execute_result"
    }
   ],
   "source": [
    "y = np.ones(10)\n",
    "y + x"
   ]
  },
  {
   "cell_type": "code",
   "execution_count": 15,
   "metadata": {},
   "outputs": [
    {
     "ename": "ValueError",
     "evalue": "operands could not be broadcast together with shapes (10,) (5,) ",
     "output_type": "error",
     "traceback": [
      "\u001b[1;31m---------------------------------------------------------------------------\u001b[0m",
      "\u001b[1;31mValueError\u001b[0m                                Traceback (most recent call last)",
      "\u001b[1;32m<ipython-input-15-5e996439fcf1>\u001b[0m in \u001b[0;36m<module>\u001b[1;34m()\u001b[0m\n\u001b[0;32m      1\u001b[0m \u001b[1;31m# Si tienen la misma dimensión...\u001b[0m\u001b[1;33m\u001b[0m\u001b[1;33m\u001b[0m\u001b[0m\n\u001b[0;32m      2\u001b[0m \u001b[0mz\u001b[0m \u001b[1;33m=\u001b[0m \u001b[0mnp\u001b[0m\u001b[1;33m.\u001b[0m\u001b[0mones\u001b[0m\u001b[1;33m(\u001b[0m\u001b[1;36m5\u001b[0m\u001b[1;33m)\u001b[0m\u001b[1;33m\u001b[0m\u001b[0m\n\u001b[1;32m----> 3\u001b[1;33m \u001b[0mx\u001b[0m\u001b[1;33m+\u001b[0m\u001b[0mz\u001b[0m\u001b[1;33m\u001b[0m\u001b[0m\n\u001b[0m",
      "\u001b[1;31mValueError\u001b[0m: operands could not be broadcast together with shapes (10,) (5,) "
     ]
    }
   ],
   "source": [
    "# Si tienen la misma dimensión...\n",
    "z = np.ones(5)\n",
    "x+z"
   ]
  },
  {
   "cell_type": "markdown",
   "metadata": {},
   "source": [
    "**Ejercicio**: Creando vectores aleatorios y realizando operaciones. Crear un array de dimensión 20 con una distribución Gamma con parámetro de forma 2 y parámetro de simetría 2, una vez creados incrementar en un 20%"
   ]
  },
  {
   "cell_type": "code",
   "execution_count": 17,
   "metadata": {
    "scrolled": true
   },
   "outputs": [
    {
     "name": "stdout",
     "output_type": "stream",
     "text": [
      "[3.7452863  8.47857658 7.8366202  4.52002798 2.54187994 7.34869777\n",
      " 4.78686485 5.36652482 2.47584492 1.25168961 9.09930411 9.14341839\n",
      " 6.03465514 2.10882105 4.32063245 5.79964164 5.82055069 3.03320026\n",
      " 1.87146841 3.30151165]\n",
      "[ 4.49434356 10.17429189  9.40394424  5.42403358  3.05025593  8.81843732\n",
      "  5.74423782  6.43982978  2.97101391  1.50202753 10.91916494 10.97210207\n",
      "  7.24158617  2.53058526  5.18475894  6.95956996  6.98466082  3.63984031\n",
      "  2.2457621   3.96181398]\n"
     ]
    }
   ],
   "source": [
    "shape, scale = 2., 2. \n",
    "r = np.random.gamma(shape, scale, 20)\n",
    "print( r)\n",
    "r = r*1.2\n",
    "print (r)"
   ]
  },
  {
   "cell_type": "markdown",
   "metadata": {},
   "source": [
    "## Gráficos simples con vectores"
   ]
  },
  {
   "cell_type": "markdown",
   "metadata": {},
   "source": [
    "Del mismo modo que sucede en Pandas podemos usar matplotlib para realizar gráficos básicos."
   ]
  },
  {
   "cell_type": "code",
   "execution_count": 18,
   "metadata": {},
   "outputs": [
    {
     "data": {
      "text/plain": [
       "[<matplotlib.lines.Line2D at 0x265c7194588>]"
      ]
     },
     "execution_count": 18,
     "metadata": {},
     "output_type": "execute_result"
    },
    {
     "data": {
      "image/png": "[encoded data removed]",
      "text/plain": [
       "<Figure size 432x288 with 1 Axes>"
      ]
     },
     "metadata": {
      "needs_background": "light"
     },
     "output_type": "display_data"
    }
   ],
   "source": [
    "import matplotlib.pyplot as plt\n",
    "%matplotlib inline\n",
    "#Pintamos el vector creado en el anterior ejercicio\n",
    "r = np.random.gamma(shape, scale, 2000)\n",
    "plt.plot(r)"
   ]
  },
  {
   "cell_type": "markdown",
   "metadata": {},
   "source": [
    "La distribución es mejor analizarla en un histograma"
   ]
  },
  {
   "cell_type": "code",
   "execution_count": 19,
   "metadata": {},
   "outputs": [
    {
     "data": {
      "text/plain": [
       "(array([16., 26., 51., 61., 55., 75., 61., 74., 49., 91., 79., 83., 79.,\n",
       "        78., 62., 58., 53., 72., 56., 50., 53., 43., 44., 53., 40., 40.,\n",
       "        35., 40., 36., 32., 24., 21., 24., 16., 25., 21., 21., 25., 17.,\n",
       "        11.,  9.,  7., 10., 11., 10.,  9.,  7., 11.,  9.,  7.,  3.,  4.,\n",
       "         5.,  5.,  4.,  1.,  3.,  3.,  2.,  2.,  4.,  0.,  1.,  1.,  2.,\n",
       "         1.,  0.,  2.,  4.,  2.,  0.,  1.,  0.,  2.,  0.,  2.,  1.,  1.,\n",
       "         0.,  0.,  0.,  1.,  0.,  0.,  0.,  0.,  0.,  0.,  0.,  0.,  1.,\n",
       "         0.,  0.,  0.,  0.,  0.,  0.,  1.,  0.,  1.]),\n",
       " array([ 0.07383703,  0.286296  ,  0.49875496,  0.71121393,  0.9236729 ,\n",
       "         1.13613187,  1.34859084,  1.5610498 ,  1.77350877,  1.98596774,\n",
       "         2.19842671,  2.41088567,  2.62334464,  2.83580361,  3.04826258,\n",
       "         3.26072155,  3.47318051,  3.68563948,  3.89809845,  4.11055742,\n",
       "         4.32301639,  4.53547535,  4.74793432,  4.96039329,  5.17285226,\n",
       "         5.38531123,  5.59777019,  5.81022916,  6.02268813,  6.2351471 ,\n",
       "         6.44760607,  6.66006503,  6.872524  ,  7.08498297,  7.29744194,\n",
       "         7.5099009 ,  7.72235987,  7.93481884,  8.14727781,  8.35973678,\n",
       "         8.57219574,  8.78465471,  8.99711368,  9.20957265,  9.42203162,\n",
       "         9.63449058,  9.84694955, 10.05940852, 10.27186749, 10.48432646,\n",
       "        10.69678542, 10.90924439, 11.12170336, 11.33416233, 11.5466213 ,\n",
       "        11.75908026, 11.97153923, 12.1839982 , 12.39645717, 12.60891613,\n",
       "        12.8213751 , 13.03383407, 13.24629304, 13.45875201, 13.67121097,\n",
       "        13.88366994, 14.09612891, 14.30858788, 14.52104685, 14.73350581,\n",
       "        14.94596478, 15.15842375, 15.37088272, 15.58334169, 15.79580065,\n",
       "        16.00825962, 16.22071859, 16.43317756, 16.64563653, 16.85809549,\n",
       "        17.07055446, 17.28301343, 17.4954724 , 17.70793136, 17.92039033,\n",
       "        18.1328493 , 18.34530827, 18.55776724, 18.7702262 , 18.98268517,\n",
       "        19.19514414, 19.40760311, 19.62006208, 19.83252104, 20.04498001,\n",
       "        20.25743898, 20.46989795, 20.68235692, 20.89481588, 21.10727485,\n",
       "        21.31973382]),\n",
       " <a list of 100 Patch objects>)"
      ]
     },
     "execution_count": 19,
     "metadata": {},
     "output_type": "execute_result"
    },
    {
     "data": {
      "image/png": "[encoded data removed]",
      "text/plain": [
       "<Figure size 432x288 with 1 Axes>"
      ]
     },
     "metadata": {
      "needs_background": "light"
     },
     "output_type": "display_data"
    }
   ],
   "source": [
    "# TODO: Search in the docs of the pyplot object a way to plot a histogram. \n",
    "# You should particularly read what \"bins\" are as this influence the plotting of histograms. \n",
    "plt.hist(r, bins=100)"
   ]
  },
  {
   "cell_type": "markdown",
   "metadata": {},
   "source": [
    "## Indexado y acceso a elementos del vector"
   ]
  },
  {
   "cell_type": "markdown",
   "metadata": {},
   "source": [
    "Trabajar con un vector es muy similar a trabajar con listas."
   ]
  },
  {
   "cell_type": "code",
   "execution_count": 22,
   "metadata": {},
   "outputs": [
    {
     "name": "stdout",
     "output_type": "stream",
     "text": [
      "[1. 1. 1. 1. 1. 1. 1. 1. 1. 1.]\n",
      "[1. 1. 1. 1. 1. 0. 0. 0. 0. 0.]\n",
      "[0. 0. 0. 0. 0. 0. 0. 0. 0. 0.]\n"
     ]
    }
   ],
   "source": [
    "o = np.ones(10)\n",
    "print (o)\n",
    "o[5:]=0\n",
    "print (o)\n",
    "o[:5]=0\n",
    "print (o)"
   ]
  },
  {
   "cell_type": "markdown",
   "metadata": {},
   "source": [
    "## Vectores booleanos"
   ]
  },
  {
   "cell_type": "markdown",
   "metadata": {},
   "source": [
    "Podemos crear arrays con sucesiones de valores booleanos."
   ]
  },
  {
   "cell_type": "code",
   "execution_count": 25,
   "metadata": {},
   "outputs": [
    {
     "name": "stdout",
     "output_type": "stream",
     "text": [
      "[6.5 6.8 3.3 5.9 7.3 3.7 2.  6.2 4.1 6.4 5.8 5.8 4.  4.6 8.8]\n",
      "[2.2 2.2 4.1 5.4 4.8 5.5 7.3 5.8 0.2 5.8 2.3 4.4 6.6 7.5 5.4]\n"
     ]
    }
   ],
   "source": [
    "#Ejemplo. Puntuaciones en dos asignaturas\n",
    "asig1 = np.random.normal(5, 2, 15)\n",
    "asig2 = np.random.normal(5, 2, 15)\n",
    "\n",
    "#Redondeamos a un decimal. \n",
    "asig1 = asig1.round(1)\n",
    "asig2 = asig2.round(1)\n",
    "print (asig1)\n",
    "print (asig2)"
   ]
  },
  {
   "cell_type": "code",
   "execution_count": 28,
   "metadata": {},
   "outputs": [
    {
     "data": {
      "text/plain": [
       "array([ True,  True, False,  True,  True, False, False,  True, False,\n",
       "        True,  True,  True, False, False,  True])"
      ]
     },
     "execution_count": 28,
     "metadata": {},
     "output_type": "execute_result"
    }
   ],
   "source": [
    "#Aprobados\n",
    "asig1 >= 5"
   ]
  },
  {
   "cell_type": "code",
   "execution_count": 33,
   "metadata": {},
   "outputs": [
    {
     "name": "stdout",
     "output_type": "stream",
     "text": [
      "[ True  True False  True  True False False  True False  True  True  True\n",
      " False False  True]\n",
      "[4.35 4.5  5.65 6.05 6.   6.1  4.05 5.1  7.1 ]\n"
     ]
    }
   ],
   "source": [
    "pasan = asig1 >= 5.0\n",
    "print(passed1)\n",
    "\n",
    "# Nota media de los aprobados en la asignatura 1.\n",
    "print (((asig2+asig1)/2)[pasan])"
   ]
  },
  {
   "cell_type": "markdown",
   "metadata": {},
   "source": [
    "## Funciones universales"
   ]
  },
  {
   "cell_type": "markdown",
   "metadata": {},
   "source": [
    "Las funciones universales (Universal functions ufuncs)  son operaciones que podemos realizar con elementos de NumPy. Veamos y grafiquemos algunos ejemplos: http://docs.scipy.org/doc/numpy/reference/ufuncs.html "
   ]
  },
  {
   "cell_type": "code",
   "execution_count": 35,
   "metadata": {},
   "outputs": [
    {
     "name": "stdout",
     "output_type": "stream",
     "text": [
      "50\n"
     ]
    },
    {
     "data": {
      "text/plain": [
       "[<matplotlib.lines.Line2D at 0x265c7404fd0>]"
      ]
     },
     "execution_count": 35,
     "metadata": {},
     "output_type": "execute_result"
    },
    {
     "data": {
      "image/png": "[encoded data removed]",
      "text/plain": [
       "<Figure size 432x288 with 1 Axes>"
      ]
     },
     "metadata": {
      "needs_background": "light"
     },
     "output_type": "display_data"
    }
   ],
   "source": [
    "import matplotlib.pyplot as plt\n",
    "import numpy as np\n",
    "\n",
    "#Vector de longitud 50 entre 0 y 100.\n",
    "x = np.linspace(1, 100)\n",
    "print (len(x))\n",
    "\n",
    "# Calculemos el seno de x.\n",
    "y = np.sin(x)\n",
    "\n",
    "# Creamos un gráfico\n",
    "plt.plot(x,y)"
   ]
  },
  {
   "cell_type": "markdown",
   "metadata": {},
   "source": [
    "You can plot several arrays in the same plot. "
   ]
  },
  {
   "cell_type": "code",
   "execution_count": 36,
   "metadata": {},
   "outputs": [
    {
     "data": {
      "text/plain": [
       "[<matplotlib.lines.Line2D at 0x265c7467be0>,\n",
       " <matplotlib.lines.Line2D at 0x265c7467e10>]"
      ]
     },
     "execution_count": 36,
     "metadata": {},
     "output_type": "execute_result"
    },
    {
     "data": {
      "image/png": "[encoded data removed]",
      "text/plain": [
       "<Figure size 432x288 with 1 Axes>"
      ]
     },
     "metadata": {
      "needs_background": "light"
     },
     "output_type": "display_data"
    }
   ],
   "source": [
    "# TODO: Plot the same as above, plus the square of the sin values. \n",
    "# Look in the docs how you can pass more than one array to plot, and how to draw the second \n",
    "# with a different color, e.g. red.\n",
    "plt.plot(x, y, x, y**2, 'r-^')"
   ]
  },
  {
   "cell_type": "markdown",
   "metadata": {},
   "source": [
    "You can also generate random points and do scaterplotting"
   ]
  },
  {
   "cell_type": "code",
   "execution_count": null,
   "metadata": {},
   "outputs": [],
   "source": [
    "#TODO: generate two arrays of the same size using a random generator with gamma dstribution.\n",
    "a = np.random.gamma(3,2, 100)\n",
    "b = np.random.gamma(3,2, 100)\n",
    "\n",
    "# Plot the two arrays as a scatterplot.\n",
    "plt.scatter(a,b)"
   ]
  },
  {
   "cell_type": "markdown",
   "metadata": {},
   "source": [
    "Summarization operations are implemented also."
   ]
  },
  {
   "cell_type": "code",
   "execution_count": null,
   "metadata": {},
   "outputs": [],
   "source": [
    "b.mean()"
   ]
  },
  {
   "cell_type": "code",
   "execution_count": null,
   "metadata": {},
   "outputs": [],
   "source": [
    "np.sqrt(b)"
   ]
  },
  {
   "cell_type": "markdown",
   "metadata": {},
   "source": [
    "This is a key reference:\n",
    "http://wiki.scipy.org/Numpy_Example_List"
   ]
  },
  {
   "cell_type": "code",
   "execution_count": null,
   "metadata": {
    "collapsed": true
   },
   "outputs": [],
   "source": []
  }
 ],
 "metadata": {
  "kernelspec": {
   "display_name": "Python 3",
   "language": "python",
   "name": "python3"
  },
  "language_info": {
   "codemirror_mode": {
    "name": "ipython",
    "version": 3
   },
   "file_extension": ".py",
   "mimetype": "text/x-python",
   "name": "python",
   "nbconvert_exporter": "python",
   "pygments_lexer": "ipython3",
   "version": "3.7.0"
  }
 },
 "nbformat": 4,
 "nbformat_minor": 1
}
