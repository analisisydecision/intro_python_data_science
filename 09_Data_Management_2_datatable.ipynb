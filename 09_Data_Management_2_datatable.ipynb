{
 "cells": [
  {
   "cell_type": "markdown",
   "metadata": {},
   "source": [
    "# Data Management básico con datatable"
   ]
  },
  {
   "cell_type": "markdown",
   "metadata": {},
   "source": [
    "Realizaremos las mismas tareas que vimos en el anterior capítulo:\n",
    "\n",
    "* Seleccionar columnas\n",
    "* Eliminar columnas\n",
    "* Seleccionar registros\n",
    "* Crear nuevas variables\n",
    "* Sumarizar datos\n",
    "* Ordenar datos\n",
    "\n",
    "Se va a emplear un conjunto de datos cargado en el repositorio del curso:"
   ]
  },
  {
   "cell_type": "code",
   "execution_count": 1,
   "metadata": {},
   "outputs": [
    {
     "data": {
      "text/html": [
       "<style type='text/css'>\n",
       ".datatable table.frame { margin-bottom: 0; }\n",
       ".datatable table.frame thead { border-bottom: none; }\n",
       ".datatable table.frame tr.coltypes td {  color: #FFFFFF;  line-height: 6px;  padding: 0 0.5em;}\n",
       ".datatable .bool    { background: #DDDD99; }\n",
       ".datatable .object  { background: #565656; }\n",
       ".datatable .int     { background: #5D9E5D; }\n",
       ".datatable .float   { background: #4040CC; }\n",
       ".datatable .str     { background: #CC4040; }\n",
       ".datatable .row_index {  background: var(--jp-border-color3);  border-right: 1px solid var(--jp-border-color0);  color: var(--jp-ui-font-color3);  font-size: 9px;}\n",
       ".datatable .frame tr.coltypes .row_index {  background: var(--jp-border-color0);}\n",
       ".datatable th:nth-child(2) { padding-left: 12px; }\n",
       ".datatable .hellipsis {  color: var(--jp-cell-editor-border-color);}\n",
       ".datatable .vellipsis {  background: var(--jp-layout-color0);  color: var(--jp-cell-editor-border-color);}\n",
       ".datatable .na {  color: var(--jp-cell-editor-border-color);  font-size: 80%;}\n",
       ".datatable .footer { font-size: 9px; }\n",
       ".datatable .frame_dimensions {  background: var(--jp-border-color3);  border-top: 1px solid var(--jp-border-color0);  color: var(--jp-ui-font-color3);  display: inline-block;  opacity: 0.6;  padding: 1px 10px 1px 5px;}\n",
       "</style>\n"
      ],
      "text/plain": [
       "<IPython.core.display.HTML object>"
      ]
     },
     "metadata": {},
     "output_type": "display_data"
    },
    {
     "data": {
      "text/html": [
       "<div class='datatable'>\n",
       "  <table class='frame'>\n",
       "  <thead>\n",
       "    <tr class='colnames'><td class='row_index'></td><th>Creditability</th><th>Account Balance</th><th>Duration of Credit (month)</th><th>Payment Status of Previous Credit</th><th>Purpose</th><th>Credit Amount</th><th>Value Savings/Stocks</th><th>Length of current employment</th><th>Instalment per cent</th><th>Sex &amp; Marital Status</th><th class='vellipsis'>&hellip;</th><th>No of Credits at this Bank</th><th>Occupation</th><th>No of dependents</th><th>Telephone</th><th>Foreign Worker</th></tr>\n",
       "    <tr class='coltypes'><td class='row_index'></td><td class='bool' title='bool8'>&#x25AA;</td><td class='int' title='int32'>&#x25AA;&#x25AA;&#x25AA;&#x25AA;</td><td class='int' title='int32'>&#x25AA;&#x25AA;&#x25AA;&#x25AA;</td><td class='int' title='int32'>&#x25AA;&#x25AA;&#x25AA;&#x25AA;</td><td class='int' title='int32'>&#x25AA;&#x25AA;&#x25AA;&#x25AA;</td><td class='int' title='int32'>&#x25AA;&#x25AA;&#x25AA;&#x25AA;</td><td class='int' title='int32'>&#x25AA;&#x25AA;&#x25AA;&#x25AA;</td><td class='int' title='int32'>&#x25AA;&#x25AA;&#x25AA;&#x25AA;</td><td class='int' title='int32'>&#x25AA;&#x25AA;&#x25AA;&#x25AA;</td><td class='int' title='int32'>&#x25AA;&#x25AA;&#x25AA;&#x25AA;</td><td></td><td class='int' title='int32'>&#x25AA;&#x25AA;&#x25AA;&#x25AA;</td><td class='int' title='int32'>&#x25AA;&#x25AA;&#x25AA;&#x25AA;</td><td class='int' title='int32'>&#x25AA;&#x25AA;&#x25AA;&#x25AA;</td><td class='int' title='int32'>&#x25AA;&#x25AA;&#x25AA;&#x25AA;</td><td class='int' title='int32'>&#x25AA;&#x25AA;&#x25AA;&#x25AA;</td></tr>\n",
       "  </thead>\n",
       "  <tbody>\n",
       "    <tr><td class='row_index'>0</td><td>1</td><td>1</td><td>18</td><td>4</td><td>2</td><td>1049</td><td>1</td><td>2</td><td>4</td><td>2</td><td class=vellipsis>&hellip;</td><td>1</td><td>3</td><td>1</td><td>1</td><td>1</td></tr>\n",
       "    <tr><td class='row_index'>1</td><td>1</td><td>1</td><td>9</td><td>4</td><td>0</td><td>2799</td><td>1</td><td>3</td><td>2</td><td>3</td><td class=vellipsis>&hellip;</td><td>2</td><td>3</td><td>2</td><td>1</td><td>1</td></tr>\n",
       "    <tr><td class='row_index'>2</td><td>1</td><td>2</td><td>12</td><td>2</td><td>9</td><td>841</td><td>2</td><td>4</td><td>2</td><td>2</td><td class=vellipsis>&hellip;</td><td>1</td><td>2</td><td>1</td><td>1</td><td>1</td></tr>\n",
       "    <tr><td class='row_index'>3</td><td>1</td><td>1</td><td>12</td><td>4</td><td>0</td><td>2122</td><td>1</td><td>3</td><td>3</td><td>3</td><td class=vellipsis>&hellip;</td><td>2</td><td>2</td><td>2</td><td>1</td><td>2</td></tr>\n",
       "    <tr><td class='row_index'>4</td><td>1</td><td>1</td><td>12</td><td>4</td><td>0</td><td>2171</td><td>1</td><td>3</td><td>4</td><td>3</td><td class=vellipsis>&hellip;</td><td>2</td><td>2</td><td>1</td><td>1</td><td>2</td></tr>\n",
       "    <tr><td class='row_index'>5</td><td>1</td><td>1</td><td>10</td><td>4</td><td>0</td><td>2241</td><td>1</td><td>2</td><td>1</td><td>3</td><td class=vellipsis>&hellip;</td><td>2</td><td>2</td><td>2</td><td>1</td><td>2</td></tr>\n",
       "    <tr><td class='row_index'>6</td><td>1</td><td>1</td><td>8</td><td>4</td><td>0</td><td>3398</td><td>1</td><td>4</td><td>1</td><td>3</td><td class=vellipsis>&hellip;</td><td>2</td><td>2</td><td>1</td><td>1</td><td>2</td></tr>\n",
       "    <tr><td class='row_index'>7</td><td>1</td><td>1</td><td>6</td><td>4</td><td>0</td><td>1361</td><td>1</td><td>2</td><td>2</td><td>3</td><td class=vellipsis>&hellip;</td><td>1</td><td>2</td><td>2</td><td>1</td><td>2</td></tr>\n",
       "    <tr><td class='row_index'>8</td><td>1</td><td>4</td><td>18</td><td>4</td><td>3</td><td>1098</td><td>1</td><td>1</td><td>4</td><td>2</td><td class=vellipsis>&hellip;</td><td>2</td><td>1</td><td>1</td><td>1</td><td>1</td></tr>\n",
       "    <tr><td class='row_index'>9</td><td>1</td><td>2</td><td>24</td><td>2</td><td>3</td><td>3758</td><td>3</td><td>1</td><td>1</td><td>2</td><td class=vellipsis>&hellip;</td><td>1</td><td>1</td><td>1</td><td>1</td><td>1</td></tr>\n",
       "  </tbody>\n",
       "  </table>\n",
       "  <div class='footer'>\n",
       "    <div class='frame_dimensions'>10 rows &times; 21 columns</div>\n",
       "  </div>\n",
       "</div>\n"
      ],
      "text/plain": [
       "<Frame#7fb04c371a50 10x21>"
      ]
     },
     "execution_count": 1,
     "metadata": {},
     "output_type": "execute_result"
    }
   ],
   "source": [
    "import datatable as dt\n",
    "path = 'https://raw.githubusercontent.com/analisisydecision/intro_python_data_science/master/'\n",
    "dt_df = dt.fread(path + 'index.csv')\n",
    "dt_df.head()"
   ]
  },
  {
   "cell_type": "markdown",
   "metadata": {},
   "source": [
    "El objeto generado será un data table frame, no es exactamente un data frame, sin embargo emplearemos esa definición. Tamaño del data frame cargado:"
   ]
  },
  {
   "cell_type": "code",
   "execution_count": 2,
   "metadata": {},
   "outputs": [
    {
     "data": {
      "text/plain": [
       "(1000, 21)"
      ]
     },
     "execution_count": 2,
     "metadata": {},
     "output_type": "execute_result"
    }
   ],
   "source": [
    "dt_df.shape"
   ]
  },
  {
   "cell_type": "markdown",
   "metadata": {},
   "source": [
    "Nombre y tipo de las variables:"
   ]
  },
  {
   "cell_type": "code",
   "execution_count": 3,
   "metadata": {},
   "outputs": [
    {
     "name": "stdout",
     "output_type": "stream",
     "text": [
      "('Creditability', 'Account Balance', 'Duration of Credit (month)', 'Payment Status of Previous Credit', 'Purpose', 'Credit Amount', 'Value Savings/Stocks', 'Length of current employment', 'Instalment per cent', 'Sex & Marital Status', 'Guarantors', 'Duration in Current address', 'Most valuable available asset', 'Age (years)', 'Concurrent Credits', 'Type of apartment', 'No of Credits at this Bank', 'Occupation', 'No of dependents', 'Telephone', 'Foreign Worker')\n",
      "(stype.bool8, stype.int32, stype.int32, stype.int32, stype.int32, stype.int32, stype.int32, stype.int32, stype.int32, stype.int32, stype.int32, stype.int32, stype.int32, stype.int32, stype.int32, stype.int32, stype.int32, stype.int32, stype.int32, stype.int32, stype.int32)\n"
     ]
    }
   ],
   "source": [
    "print(dt_df.names) \n",
    "print(dt_df.stypes)"
   ]
  },
  {
   "cell_type": "markdown",
   "metadata": {},
   "source": [
    "## Seleccionar columnas"
   ]
  },
  {
   "cell_type": "markdown",
   "metadata": {},
   "source": [
    "Un objeto datatable tiene múltiples características, en este caso sólo queremos trabajar con columnas, el resto :"
   ]
  },
  {
   "cell_type": "code",
   "execution_count": 4,
   "metadata": {},
   "outputs": [
    {
     "data": {
      "text/html": [
       "<div class='datatable'>\n",
       "  <table class='frame'>\n",
       "  <thead>\n",
       "    <tr class='colnames'><td class='row_index'></td><th>Occupation</th><th>No of dependents</th></tr>\n",
       "    <tr class='coltypes'><td class='row_index'></td><td class='int' title='int32'>&#x25AA;&#x25AA;&#x25AA;&#x25AA;</td><td class='int' title='int32'>&#x25AA;&#x25AA;&#x25AA;&#x25AA;</td></tr>\n",
       "  </thead>\n",
       "  <tbody>\n",
       "    <tr><td class='row_index'>0</td><td>3</td><td>1</td></tr>\n",
       "    <tr><td class='row_index'>1</td><td>3</td><td>2</td></tr>\n",
       "    <tr><td class='row_index'>2</td><td>2</td><td>1</td></tr>\n",
       "    <tr><td class='row_index'>3</td><td>2</td><td>2</td></tr>\n",
       "    <tr><td class='row_index'>4</td><td>2</td><td>1</td></tr>\n",
       "  </tbody>\n",
       "  </table>\n",
       "  <div class='footer'>\n",
       "    <div class='frame_dimensions'>5 rows &times; 2 columns</div>\n",
       "  </div>\n",
       "</div>\n"
      ],
      "text/plain": [
       "<Frame#7fb04c3e1300 5x2>"
      ]
     },
     "execution_count": 4,
     "metadata": {},
     "output_type": "execute_result"
    }
   ],
   "source": [
    "df2 = dt_df[:,['Occupation','No of dependents']]\n",
    "df2.head(5)"
   ]
  },
  {
   "cell_type": "code",
   "execution_count": 5,
   "metadata": {},
   "outputs": [
    {
     "data": {
      "text/html": [
       "<div class='datatable'>\n",
       "  <table class='frame'>\n",
       "  <thead>\n",
       "    <tr class='colnames'><td class='row_index'></td><th>Occupation</th><th>No of dependents</th></tr>\n",
       "    <tr class='coltypes'><td class='row_index'></td><td class='int' title='int32'>&#x25AA;&#x25AA;&#x25AA;&#x25AA;</td><td class='int' title='int32'>&#x25AA;&#x25AA;&#x25AA;&#x25AA;</td></tr>\n",
       "  </thead>\n",
       "  <tbody>\n",
       "    <tr><td class='row_index'>0</td><td>3</td><td>1</td></tr>\n",
       "    <tr><td class='row_index'>1</td><td>3</td><td>2</td></tr>\n",
       "    <tr><td class='row_index'>2</td><td>2</td><td>1</td></tr>\n",
       "    <tr><td class='row_index'>3</td><td>2</td><td>2</td></tr>\n",
       "    <tr><td class='row_index'>4</td><td>2</td><td>1</td></tr>\n",
       "  </tbody>\n",
       "  </table>\n",
       "  <div class='footer'>\n",
       "    <div class='frame_dimensions'>5 rows &times; 2 columns</div>\n",
       "  </div>\n",
       "</div>\n"
      ],
      "text/plain": [
       "<Frame#7fb04c371630 5x2>"
      ]
     },
     "execution_count": 5,
     "metadata": {},
     "output_type": "execute_result"
    }
   ],
   "source": [
    "seleccionadas =['Occupation','No of dependents']\n",
    "df2 = dt_df[:, seleccionadas]\n",
    "df2.head(5)"
   ]
  },
  {
   "cell_type": "markdown",
   "metadata": {},
   "source": [
    "## Eliminar columnas"
   ]
  },
  {
   "cell_type": "code",
   "execution_count": 6,
   "metadata": {},
   "outputs": [
    {
     "data": {
      "text/html": [
       "<div class='datatable'>\n",
       "  <table class='frame'>\n",
       "  <thead>\n",
       "    <tr class='colnames'><td class='row_index'></td><th>Duration of Credit (month)</th><th>Payment Status of Previous Credit</th><th>Purpose</th><th>Credit Amount</th><th>Value Savings/Stocks</th><th>Length of current employment</th><th>Instalment per cent</th><th>Sex &amp; Marital Status</th><th>Guarantors</th><th>Duration in Current address</th><th class='vellipsis'>&hellip;</th><th>No of Credits at this Bank</th><th>Occupation</th><th>No of dependents</th><th>Telephone</th><th>Foreign Worker</th></tr>\n",
       "    <tr class='coltypes'><td class='row_index'></td><td class='int' title='int32'>&#x25AA;&#x25AA;&#x25AA;&#x25AA;</td><td class='int' title='int32'>&#x25AA;&#x25AA;&#x25AA;&#x25AA;</td><td class='int' title='int32'>&#x25AA;&#x25AA;&#x25AA;&#x25AA;</td><td class='int' title='int32'>&#x25AA;&#x25AA;&#x25AA;&#x25AA;</td><td class='int' title='int32'>&#x25AA;&#x25AA;&#x25AA;&#x25AA;</td><td class='int' title='int32'>&#x25AA;&#x25AA;&#x25AA;&#x25AA;</td><td class='int' title='int32'>&#x25AA;&#x25AA;&#x25AA;&#x25AA;</td><td class='int' title='int32'>&#x25AA;&#x25AA;&#x25AA;&#x25AA;</td><td class='int' title='int32'>&#x25AA;&#x25AA;&#x25AA;&#x25AA;</td><td class='int' title='int32'>&#x25AA;&#x25AA;&#x25AA;&#x25AA;</td><td></td><td class='int' title='int32'>&#x25AA;&#x25AA;&#x25AA;&#x25AA;</td><td class='int' title='int32'>&#x25AA;&#x25AA;&#x25AA;&#x25AA;</td><td class='int' title='int32'>&#x25AA;&#x25AA;&#x25AA;&#x25AA;</td><td class='int' title='int32'>&#x25AA;&#x25AA;&#x25AA;&#x25AA;</td><td class='int' title='int32'>&#x25AA;&#x25AA;&#x25AA;&#x25AA;</td></tr>\n",
       "  </thead>\n",
       "  <tbody>\n",
       "    <tr><td class='row_index'>0</td><td>18</td><td>4</td><td>2</td><td>1049</td><td>1</td><td>2</td><td>4</td><td>2</td><td>1</td><td>4</td><td class=vellipsis>&hellip;</td><td>1</td><td>3</td><td>1</td><td>1</td><td>1</td></tr>\n",
       "    <tr><td class='row_index'>1</td><td>9</td><td>4</td><td>0</td><td>2799</td><td>1</td><td>3</td><td>2</td><td>3</td><td>1</td><td>2</td><td class=vellipsis>&hellip;</td><td>2</td><td>3</td><td>2</td><td>1</td><td>1</td></tr>\n",
       "    <tr><td class='row_index'>2</td><td>12</td><td>2</td><td>9</td><td>841</td><td>2</td><td>4</td><td>2</td><td>2</td><td>1</td><td>4</td><td class=vellipsis>&hellip;</td><td>1</td><td>2</td><td>1</td><td>1</td><td>1</td></tr>\n",
       "    <tr><td class='row_index'>3</td><td>12</td><td>4</td><td>0</td><td>2122</td><td>1</td><td>3</td><td>3</td><td>3</td><td>1</td><td>2</td><td class=vellipsis>&hellip;</td><td>2</td><td>2</td><td>2</td><td>1</td><td>2</td></tr>\n",
       "    <tr><td class='row_index'>4</td><td>12</td><td>4</td><td>0</td><td>2171</td><td>1</td><td>3</td><td>4</td><td>3</td><td>1</td><td>4</td><td class=vellipsis>&hellip;</td><td>2</td><td>2</td><td>1</td><td>1</td><td>2</td></tr>\n",
       "    <tr><td class='row_index'>5</td><td>10</td><td>4</td><td>0</td><td>2241</td><td>1</td><td>2</td><td>1</td><td>3</td><td>1</td><td>3</td><td class=vellipsis>&hellip;</td><td>2</td><td>2</td><td>2</td><td>1</td><td>2</td></tr>\n",
       "    <tr><td class='row_index'>6</td><td>8</td><td>4</td><td>0</td><td>3398</td><td>1</td><td>4</td><td>1</td><td>3</td><td>1</td><td>4</td><td class=vellipsis>&hellip;</td><td>2</td><td>2</td><td>1</td><td>1</td><td>2</td></tr>\n",
       "    <tr><td class='row_index'>7</td><td>6</td><td>4</td><td>0</td><td>1361</td><td>1</td><td>2</td><td>2</td><td>3</td><td>1</td><td>4</td><td class=vellipsis>&hellip;</td><td>1</td><td>2</td><td>2</td><td>1</td><td>2</td></tr>\n",
       "    <tr><td class='row_index'>8</td><td>18</td><td>4</td><td>3</td><td>1098</td><td>1</td><td>1</td><td>4</td><td>2</td><td>1</td><td>4</td><td class=vellipsis>&hellip;</td><td>2</td><td>1</td><td>1</td><td>1</td><td>1</td></tr>\n",
       "    <tr><td class='row_index'>9</td><td>24</td><td>2</td><td>3</td><td>3758</td><td>3</td><td>1</td><td>1</td><td>2</td><td>1</td><td>4</td><td class=vellipsis>&hellip;</td><td>1</td><td>1</td><td>1</td><td>1</td><td>1</td></tr>\n",
       "  </tbody>\n",
       "  </table>\n",
       "  <div class='footer'>\n",
       "    <div class='frame_dimensions'>10 rows &times; 19 columns</div>\n",
       "  </div>\n",
       "</div>\n"
      ],
      "text/plain": [
       "<Frame#7fb04c680090 10x19>"
      ]
     },
     "execution_count": 6,
     "metadata": {},
     "output_type": "execute_result"
    }
   ],
   "source": [
    "elimina = ['Creditability','Account Balance']\n",
    "del dt_df[:, elimina]\n",
    "dt_df.head()"
   ]
  },
  {
   "cell_type": "markdown",
   "metadata": {},
   "source": [
    "## Seleccionar registros"
   ]
  },
  {
   "cell_type": "markdown",
   "metadata": {},
   "source": [
    "Empezamos a familiarizarnos con la variable f que pertenece al módulo datatable. Esta variable es un mecanismo de datatable que nos permite referenciar a elementos del data table frame."
   ]
  },
  {
   "cell_type": "code",
   "execution_count": 7,
   "metadata": {},
   "outputs": [
    {
     "data": {
      "text/html": [
       "<div class='datatable'>\n",
       "  <table class='frame'>\n",
       "  <thead>\n",
       "    <tr class='colnames'><td class='row_index'></td><th>Duration of Credit (month)</th><th>Payment Status of Previous Credit</th><th>Purpose</th><th>Credit Amount</th><th>Value Savings/Stocks</th><th>Length of current employment</th><th>Instalment per cent</th><th>Sex &amp; Marital Status</th><th>Guarantors</th><th>Duration in Current address</th><th class='vellipsis'>&hellip;</th><th>No of Credits at this Bank</th><th>Occupation</th><th>No of dependents</th><th>Telephone</th><th>Foreign Worker</th></tr>\n",
       "    <tr class='coltypes'><td class='row_index'></td><td class='int' title='int32'>&#x25AA;&#x25AA;&#x25AA;&#x25AA;</td><td class='int' title='int32'>&#x25AA;&#x25AA;&#x25AA;&#x25AA;</td><td class='int' title='int32'>&#x25AA;&#x25AA;&#x25AA;&#x25AA;</td><td class='int' title='int32'>&#x25AA;&#x25AA;&#x25AA;&#x25AA;</td><td class='int' title='int32'>&#x25AA;&#x25AA;&#x25AA;&#x25AA;</td><td class='int' title='int32'>&#x25AA;&#x25AA;&#x25AA;&#x25AA;</td><td class='int' title='int32'>&#x25AA;&#x25AA;&#x25AA;&#x25AA;</td><td class='int' title='int32'>&#x25AA;&#x25AA;&#x25AA;&#x25AA;</td><td class='int' title='int32'>&#x25AA;&#x25AA;&#x25AA;&#x25AA;</td><td class='int' title='int32'>&#x25AA;&#x25AA;&#x25AA;&#x25AA;</td><td></td><td class='int' title='int32'>&#x25AA;&#x25AA;&#x25AA;&#x25AA;</td><td class='int' title='int32'>&#x25AA;&#x25AA;&#x25AA;&#x25AA;</td><td class='int' title='int32'>&#x25AA;&#x25AA;&#x25AA;&#x25AA;</td><td class='int' title='int32'>&#x25AA;&#x25AA;&#x25AA;&#x25AA;</td><td class='int' title='int32'>&#x25AA;&#x25AA;&#x25AA;&#x25AA;</td></tr>\n",
       "  </thead>\n",
       "  <tbody>\n",
       "    <tr><td class='row_index'>0</td><td>12</td><td>2</td><td>9</td><td>841</td><td>2</td><td>4</td><td>2</td><td>2</td><td>1</td><td>4</td><td class=vellipsis>&hellip;</td><td>1</td><td>2</td><td>1</td><td>1</td><td>1</td></tr>\n",
       "    <tr><td class='row_index'>1</td><td>12</td><td>4</td><td>0</td><td>2122</td><td>1</td><td>3</td><td>3</td><td>3</td><td>1</td><td>2</td><td class=vellipsis>&hellip;</td><td>2</td><td>2</td><td>2</td><td>1</td><td>2</td></tr>\n",
       "    <tr><td class='row_index'>2</td><td>12</td><td>4</td><td>0</td><td>2171</td><td>1</td><td>3</td><td>4</td><td>3</td><td>1</td><td>4</td><td class=vellipsis>&hellip;</td><td>2</td><td>2</td><td>1</td><td>1</td><td>2</td></tr>\n",
       "    <tr><td class='row_index'>3</td><td>12</td><td>4</td><td>0</td><td>3124</td><td>1</td><td>2</td><td>1</td><td>3</td><td>1</td><td>3</td><td class=vellipsis>&hellip;</td><td>2</td><td>2</td><td>2</td><td>1</td><td>1</td></tr>\n",
       "    <tr><td class='row_index'>4</td><td>12</td><td>4</td><td>4</td><td>1424</td><td>1</td><td>4</td><td>4</td><td>3</td><td>1</td><td>3</td><td class=vellipsis>&hellip;</td><td>1</td><td>3</td><td>1</td><td>1</td><td>1</td></tr>\n",
       "    <tr><td class='row_index'>5</td><td>12</td><td>2</td><td>2</td><td>652</td><td>1</td><td>5</td><td>4</td><td>2</td><td>1</td><td>4</td><td class=vellipsis>&hellip;</td><td>1</td><td>3</td><td>1</td><td>1</td><td>1</td></tr>\n",
       "    <tr><td class='row_index'>6</td><td>12</td><td>4</td><td>0</td><td>1495</td><td>1</td><td>5</td><td>4</td><td>3</td><td>1</td><td>1</td><td class=vellipsis>&hellip;</td><td>2</td><td>2</td><td>2</td><td>1</td><td>1</td></tr>\n",
       "    <tr><td class='row_index'>7</td><td>12</td><td>4</td><td>3</td><td>1934</td><td>1</td><td>5</td><td>2</td><td>3</td><td>1</td><td>2</td><td class=vellipsis>&hellip;</td><td>2</td><td>3</td><td>1</td><td>1</td><td>1</td></tr>\n",
       "    <tr><td class='row_index'>8</td><td>12</td><td>4</td><td>5</td><td>996</td><td>5</td><td>4</td><td>4</td><td>2</td><td>1</td><td>4</td><td class=vellipsis>&hellip;</td><td>2</td><td>3</td><td>1</td><td>1</td><td>1</td></tr>\n",
       "    <tr><td class='row_index'>9</td><td>12</td><td>2</td><td>0</td><td>640</td><td>1</td><td>3</td><td>4</td><td>1</td><td>1</td><td>2</td><td class=vellipsis>&hellip;</td><td>1</td><td>2</td><td>1</td><td>1</td><td>1</td></tr>\n",
       "    <tr><td class='row_index'>10</td><td>12</td><td>4</td><td>3</td><td>2331</td><td>5</td><td>5</td><td>1</td><td>3</td><td>2</td><td>4</td><td class=vellipsis>&hellip;</td><td>1</td><td>3</td><td>1</td><td>2</td><td>1</td></tr>\n",
       "    <tr><td class='row_index'>11</td><td>12</td><td>4</td><td>3</td><td>385</td><td>1</td><td>4</td><td>4</td><td>2</td><td>1</td><td>3</td><td class=vellipsis>&hellip;</td><td>4</td><td>2</td><td>1</td><td>2</td><td>1</td></tr>\n",
       "    <tr><td class='row_index'>12</td><td>12</td><td>4</td><td>3</td><td>1655</td><td>1</td><td>5</td><td>2</td><td>3</td><td>1</td><td>4</td><td class=vellipsis>&hellip;</td><td>2</td><td>2</td><td>1</td><td>2</td><td>1</td></tr>\n",
       "    <tr><td class='row_index'>13</td><td>12</td><td>4</td><td>0</td><td>1163</td><td>3</td><td>3</td><td>4</td><td>3</td><td>1</td><td>4</td><td class=vellipsis>&hellip;</td><td>1</td><td>3</td><td>1</td><td>2</td><td>1</td></tr>\n",
       "    <tr><td class='row_index'>14</td><td>12</td><td>3</td><td>0</td><td>1344</td><td>1</td><td>3</td><td>4</td><td>3</td><td>1</td><td>2</td><td class=vellipsis>&hellip;</td><td>2</td><td>2</td><td>2</td><td>1</td><td>1</td></tr>\n",
       "    <tr><td class='row_index'>&#x22EE;</td><td class='hellipsis'>&#x22EE;</td><td class='hellipsis'>&#x22EE;</td><td class='hellipsis'>&#x22EE;</td><td class='hellipsis'>&#x22EE;</td><td class='hellipsis'>&#x22EE;</td><td class='hellipsis'>&#x22EE;</td><td class='hellipsis'>&#x22EE;</td><td class='hellipsis'>&#x22EE;</td><td class='hellipsis'>&#x22EE;</td><td class='hellipsis'>&#x22EE;</td><td class='hellipsis'>&#x22F1;</td><td class='hellipsis'>&#x22EE;</td><td class='hellipsis'>&#x22EE;</td><td class='hellipsis'>&#x22EE;</td><td class='hellipsis'>&#x22EE;</td><td class='hellipsis'>&#x22EE;</td></tr>\n",
       "    <tr><td class='row_index'>174</td><td>12</td><td>2</td><td>1</td><td>3386</td><td>1</td><td>5</td><td>3</td><td>3</td><td>1</td><td>4</td><td class=vellipsis>&hellip;</td><td>1</td><td>3</td><td>1</td><td>2</td><td>1</td></tr>\n",
       "    <tr><td class='row_index'>175</td><td>12</td><td>4</td><td>9</td><td>2292</td><td>1</td><td>1</td><td>4</td><td>3</td><td>1</td><td>2</td><td class=vellipsis>&hellip;</td><td>2</td><td>4</td><td>1</td><td>2</td><td>1</td></tr>\n",
       "    <tr><td class='row_index'>176</td><td>12</td><td>2</td><td>3</td><td>674</td><td>2</td><td>4</td><td>4</td><td>4</td><td>1</td><td>1</td><td class=vellipsis>&hellip;</td><td>1</td><td>3</td><td>1</td><td>1</td><td>1</td></tr>\n",
       "    <tr><td class='row_index'>177</td><td>12</td><td>0</td><td>3</td><td>6199</td><td>1</td><td>3</td><td>4</td><td>3</td><td>1</td><td>2</td><td class=vellipsis>&hellip;</td><td>2</td><td>3</td><td>1</td><td>2</td><td>1</td></tr>\n",
       "    <tr><td class='row_index'>178</td><td>12</td><td>2</td><td>3</td><td>6468</td><td>5</td><td>1</td><td>2</td><td>3</td><td>1</td><td>1</td><td class=vellipsis>&hellip;</td><td>1</td><td>4</td><td>1</td><td>2</td><td>1</td></tr>\n",
       "  </tbody>\n",
       "  </table>\n",
       "  <div class='footer'>\n",
       "    <div class='frame_dimensions'>179 rows &times; 19 columns</div>\n",
       "  </div>\n",
       "</div>\n"
      ],
      "text/plain": [
       "<IPython.core.display.HTML object>"
      ]
     },
     "metadata": {},
     "output_type": "display_data"
    }
   ],
   "source": [
    "df4 = dt_df[dt.f['Duration of Credit (month)'] == 12, :]\n",
    "df4.view()"
   ]
  },
  {
   "cell_type": "markdown",
   "metadata": {},
   "source": [
    "Registros que cumplan una condición."
   ]
  },
  {
   "cell_type": "code",
   "execution_count": 8,
   "metadata": {},
   "outputs": [
    {
     "data": {
      "text/html": [
       "<div class='datatable'>\n",
       "  <table class='frame'>\n",
       "  <thead>\n",
       "    <tr class='colnames'><td class='row_index'></td><th>Duration of Credit (month)</th><th>Payment Status of Previous Credit</th><th>Purpose</th><th>Credit Amount</th><th>Value Savings/Stocks</th><th>Length of current employment</th><th>Instalment per cent</th><th>Sex &amp; Marital Status</th><th>Guarantors</th><th>Duration in Current address</th><th class='vellipsis'>&hellip;</th><th>No of Credits at this Bank</th><th>Occupation</th><th>No of dependents</th><th>Telephone</th><th>Foreign Worker</th></tr>\n",
       "    <tr class='coltypes'><td class='row_index'></td><td class='int' title='int32'>&#x25AA;&#x25AA;&#x25AA;&#x25AA;</td><td class='int' title='int32'>&#x25AA;&#x25AA;&#x25AA;&#x25AA;</td><td class='int' title='int32'>&#x25AA;&#x25AA;&#x25AA;&#x25AA;</td><td class='int' title='int32'>&#x25AA;&#x25AA;&#x25AA;&#x25AA;</td><td class='int' title='int32'>&#x25AA;&#x25AA;&#x25AA;&#x25AA;</td><td class='int' title='int32'>&#x25AA;&#x25AA;&#x25AA;&#x25AA;</td><td class='int' title='int32'>&#x25AA;&#x25AA;&#x25AA;&#x25AA;</td><td class='int' title='int32'>&#x25AA;&#x25AA;&#x25AA;&#x25AA;</td><td class='int' title='int32'>&#x25AA;&#x25AA;&#x25AA;&#x25AA;</td><td class='int' title='int32'>&#x25AA;&#x25AA;&#x25AA;&#x25AA;</td><td></td><td class='int' title='int32'>&#x25AA;&#x25AA;&#x25AA;&#x25AA;</td><td class='int' title='int32'>&#x25AA;&#x25AA;&#x25AA;&#x25AA;</td><td class='int' title='int32'>&#x25AA;&#x25AA;&#x25AA;&#x25AA;</td><td class='int' title='int32'>&#x25AA;&#x25AA;&#x25AA;&#x25AA;</td><td class='int' title='int32'>&#x25AA;&#x25AA;&#x25AA;&#x25AA;</td></tr>\n",
       "  </thead>\n",
       "  <tbody>\n",
       "    <tr><td class='row_index'>0</td><td>18</td><td>4</td><td>2</td><td>1049</td><td>1</td><td>2</td><td>4</td><td>2</td><td>1</td><td>4</td><td class=vellipsis>&hellip;</td><td>1</td><td>3</td><td>1</td><td>1</td><td>1</td></tr>\n",
       "    <tr><td class='row_index'>1</td><td>9</td><td>4</td><td>0</td><td>2799</td><td>1</td><td>3</td><td>2</td><td>3</td><td>1</td><td>2</td><td class=vellipsis>&hellip;</td><td>2</td><td>3</td><td>2</td><td>1</td><td>1</td></tr>\n",
       "    <tr><td class='row_index'>2</td><td>10</td><td>4</td><td>0</td><td>2241</td><td>1</td><td>2</td><td>1</td><td>3</td><td>1</td><td>3</td><td class=vellipsis>&hellip;</td><td>2</td><td>2</td><td>2</td><td>1</td><td>2</td></tr>\n",
       "    <tr><td class='row_index'>3</td><td>8</td><td>4</td><td>0</td><td>3398</td><td>1</td><td>4</td><td>1</td><td>3</td><td>1</td><td>4</td><td class=vellipsis>&hellip;</td><td>2</td><td>2</td><td>1</td><td>1</td><td>2</td></tr>\n",
       "    <tr><td class='row_index'>4</td><td>6</td><td>4</td><td>0</td><td>1361</td><td>1</td><td>2</td><td>2</td><td>3</td><td>1</td><td>4</td><td class=vellipsis>&hellip;</td><td>1</td><td>2</td><td>2</td><td>1</td><td>2</td></tr>\n",
       "  </tbody>\n",
       "  </table>\n",
       "  <div class='footer'>\n",
       "    <div class='frame_dimensions'>5 rows &times; 19 columns</div>\n",
       "  </div>\n",
       "</div>\n"
      ],
      "text/plain": [
       "<Frame#7fb04c680300 5x19>"
      ]
     },
     "execution_count": 8,
     "metadata": {},
     "output_type": "execute_result"
    }
   ],
   "source": [
    "df4 = dt_df[dt.f['Duration of Credit (month)'] != 12, :]\n",
    "df4.head(5)"
   ]
  },
  {
   "cell_type": "markdown",
   "metadata": {},
   "source": [
    "Las condiciones complejas requieren el empleo de paréntesis. "
   ]
  },
  {
   "cell_type": "code",
   "execution_count": 9,
   "metadata": {},
   "outputs": [
    {
     "data": {
      "text/html": [
       "<div class='datatable'>\n",
       "  <table class='frame'>\n",
       "  <thead>\n",
       "    <tr class='colnames'><td class='row_index'></td><th>Duration of Credit (month)</th><th>Payment Status of Previous Credit</th><th>Purpose</th><th>Credit Amount</th><th>Value Savings/Stocks</th><th>Length of current employment</th><th>Instalment per cent</th><th>Sex &amp; Marital Status</th><th>Guarantors</th><th>Duration in Current address</th><th class='vellipsis'>&hellip;</th><th>No of Credits at this Bank</th><th>Occupation</th><th>No of dependents</th><th>Telephone</th><th>Foreign Worker</th></tr>\n",
       "    <tr class='coltypes'><td class='row_index'></td><td class='int' title='int32'>&#x25AA;&#x25AA;&#x25AA;&#x25AA;</td><td class='int' title='int32'>&#x25AA;&#x25AA;&#x25AA;&#x25AA;</td><td class='int' title='int32'>&#x25AA;&#x25AA;&#x25AA;&#x25AA;</td><td class='int' title='int32'>&#x25AA;&#x25AA;&#x25AA;&#x25AA;</td><td class='int' title='int32'>&#x25AA;&#x25AA;&#x25AA;&#x25AA;</td><td class='int' title='int32'>&#x25AA;&#x25AA;&#x25AA;&#x25AA;</td><td class='int' title='int32'>&#x25AA;&#x25AA;&#x25AA;&#x25AA;</td><td class='int' title='int32'>&#x25AA;&#x25AA;&#x25AA;&#x25AA;</td><td class='int' title='int32'>&#x25AA;&#x25AA;&#x25AA;&#x25AA;</td><td class='int' title='int32'>&#x25AA;&#x25AA;&#x25AA;&#x25AA;</td><td></td><td class='int' title='int32'>&#x25AA;&#x25AA;&#x25AA;&#x25AA;</td><td class='int' title='int32'>&#x25AA;&#x25AA;&#x25AA;&#x25AA;</td><td class='int' title='int32'>&#x25AA;&#x25AA;&#x25AA;&#x25AA;</td><td class='int' title='int32'>&#x25AA;&#x25AA;&#x25AA;&#x25AA;</td><td class='int' title='int32'>&#x25AA;&#x25AA;&#x25AA;&#x25AA;</td></tr>\n",
       "  </thead>\n",
       "  <tbody>\n",
       "    <tr><td class='row_index'>0</td><td>12</td><td>2</td><td>9</td><td>841</td><td>2</td><td>4</td><td>2</td><td>2</td><td>1</td><td>4</td><td class=vellipsis>&hellip;</td><td>1</td><td>2</td><td>1</td><td>1</td><td>1</td></tr>\n",
       "    <tr><td class='row_index'>1</td><td>12</td><td>4</td><td>4</td><td>1424</td><td>1</td><td>4</td><td>4</td><td>3</td><td>1</td><td>3</td><td class=vellipsis>&hellip;</td><td>1</td><td>3</td><td>1</td><td>1</td><td>1</td></tr>\n",
       "    <tr><td class='row_index'>2</td><td>12</td><td>2</td><td>2</td><td>652</td><td>1</td><td>5</td><td>4</td><td>2</td><td>1</td><td>4</td><td class=vellipsis>&hellip;</td><td>1</td><td>3</td><td>1</td><td>1</td><td>1</td></tr>\n",
       "    <tr><td class='row_index'>3</td><td>12</td><td>4</td><td>0</td><td>1495</td><td>1</td><td>5</td><td>4</td><td>3</td><td>1</td><td>1</td><td class=vellipsis>&hellip;</td><td>2</td><td>2</td><td>2</td><td>1</td><td>1</td></tr>\n",
       "    <tr><td class='row_index'>4</td><td>12</td><td>4</td><td>5</td><td>996</td><td>5</td><td>4</td><td>4</td><td>2</td><td>1</td><td>4</td><td class=vellipsis>&hellip;</td><td>2</td><td>3</td><td>1</td><td>1</td><td>1</td></tr>\n",
       "  </tbody>\n",
       "  </table>\n",
       "  <div class='footer'>\n",
       "    <div class='frame_dimensions'>5 rows &times; 19 columns</div>\n",
       "  </div>\n",
       "</div>\n"
      ],
      "text/plain": [
       "<Frame#7fb04c680180 5x19>"
      ]
     },
     "execution_count": 9,
     "metadata": {},
     "output_type": "execute_result"
    }
   ],
   "source": [
    "df5 = dt_df[(dt.f['Duration of Credit (month)'] == 12) & (dt.f['Credit Amount']<=1500), :]\n",
    "df5.head(5)"
   ]
  },
  {
   "cell_type": "markdown",
   "metadata": {},
   "source": [
    "En este caso las variables tienen caracteres especiales en su definición por ello el uso de corchetes y comillas, sin embargo, la notación punto simplifica este tipo de trabajo:"
   ]
  },
  {
   "cell_type": "code",
   "execution_count": 10,
   "metadata": {},
   "outputs": [
    {
     "data": {
      "text/html": [
       "<div class='datatable'>\n",
       "  <table class='frame'>\n",
       "  <thead>\n",
       "    <tr class='colnames'><td class='row_index'></td><th>Duration of Credit (month)</th><th>Payment Status of Previous Credit</th><th>Purpose</th><th>Credit Amount</th><th>Value Savings/Stocks</th><th>Length of current employment</th><th>Instalment per cent</th><th>Sex &amp; Marital Status</th><th>Guarantors</th><th>Duration in Current address</th><th class='vellipsis'>&hellip;</th><th>No of Credits at this Bank</th><th>Occupation</th><th>No of dependents</th><th>Telephone</th><th>Foreign Worker</th></tr>\n",
       "    <tr class='coltypes'><td class='row_index'></td><td class='int' title='int32'>&#x25AA;&#x25AA;&#x25AA;&#x25AA;</td><td class='int' title='int32'>&#x25AA;&#x25AA;&#x25AA;&#x25AA;</td><td class='int' title='int32'>&#x25AA;&#x25AA;&#x25AA;&#x25AA;</td><td class='int' title='int32'>&#x25AA;&#x25AA;&#x25AA;&#x25AA;</td><td class='int' title='int32'>&#x25AA;&#x25AA;&#x25AA;&#x25AA;</td><td class='int' title='int32'>&#x25AA;&#x25AA;&#x25AA;&#x25AA;</td><td class='int' title='int32'>&#x25AA;&#x25AA;&#x25AA;&#x25AA;</td><td class='int' title='int32'>&#x25AA;&#x25AA;&#x25AA;&#x25AA;</td><td class='int' title='int32'>&#x25AA;&#x25AA;&#x25AA;&#x25AA;</td><td class='int' title='int32'>&#x25AA;&#x25AA;&#x25AA;&#x25AA;</td><td></td><td class='int' title='int32'>&#x25AA;&#x25AA;&#x25AA;&#x25AA;</td><td class='int' title='int32'>&#x25AA;&#x25AA;&#x25AA;&#x25AA;</td><td class='int' title='int32'>&#x25AA;&#x25AA;&#x25AA;&#x25AA;</td><td class='int' title='int32'>&#x25AA;&#x25AA;&#x25AA;&#x25AA;</td><td class='int' title='int32'>&#x25AA;&#x25AA;&#x25AA;&#x25AA;</td></tr>\n",
       "  </thead>\n",
       "  <tbody>\n",
       "    <tr><td class='row_index'>0</td><td>18</td><td>4</td><td>2</td><td>1049</td><td>1</td><td>2</td><td>4</td><td>2</td><td>1</td><td>4</td><td class=vellipsis>&hellip;</td><td>1</td><td>3</td><td>1</td><td>1</td><td>1</td></tr>\n",
       "    <tr><td class='row_index'>1</td><td>9</td><td>4</td><td>0</td><td>2799</td><td>1</td><td>3</td><td>2</td><td>3</td><td>1</td><td>2</td><td class=vellipsis>&hellip;</td><td>2</td><td>3</td><td>2</td><td>1</td><td>1</td></tr>\n",
       "    <tr><td class='row_index'>2</td><td>11</td><td>4</td><td>0</td><td>3905</td><td>1</td><td>3</td><td>2</td><td>3</td><td>1</td><td>2</td><td class=vellipsis>&hellip;</td><td>2</td><td>3</td><td>2</td><td>1</td><td>1</td></tr>\n",
       "    <tr><td class='row_index'>3</td><td>30</td><td>4</td><td>1</td><td>6187</td><td>2</td><td>4</td><td>1</td><td>4</td><td>1</td><td>4</td><td class=vellipsis>&hellip;</td><td>2</td><td>3</td><td>1</td><td>1</td><td>1</td></tr>\n",
       "    <tr><td class='row_index'>4</td><td>6</td><td>4</td><td>3</td><td>1957</td><td>1</td><td>4</td><td>1</td><td>2</td><td>1</td><td>4</td><td class=vellipsis>&hellip;</td><td>1</td><td>3</td><td>1</td><td>1</td><td>1</td></tr>\n",
       "  </tbody>\n",
       "  </table>\n",
       "  <div class='footer'>\n",
       "    <div class='frame_dimensions'>5 rows &times; 19 columns</div>\n",
       "  </div>\n",
       "</div>\n"
      ],
      "text/plain": [
       "<Frame#7fb04c680780 5x19>"
      ]
     },
     "execution_count": 10,
     "metadata": {},
     "output_type": "execute_result"
    }
   ],
   "source": [
    "df5 = dt_df[(dt.f['Duration of Credit (month)'] != 12) & (dt.f.Occupation == 3), :]\n",
    "df5.head(5)"
   ]
  },
  {
   "cell_type": "code",
   "execution_count": 11,
   "metadata": {},
   "outputs": [
    {
     "data": {
      "text/html": [
       "<div class='datatable'>\n",
       "  <table class='frame'>\n",
       "  <thead>\n",
       "    <tr class='colnames'><td class='row_index'></td><th>Duration of Credit (month)</th><th>Payment Status of Previous Credit</th><th>Purpose</th><th>Credit Amount</th><th>Value Savings/Stocks</th><th>Length of current employment</th><th>Instalment per cent</th><th>Sex &amp; Marital Status</th><th>Guarantors</th><th>Duration in Current address</th><th class='vellipsis'>&hellip;</th><th>No of Credits at this Bank</th><th>Occupation</th><th>No of dependents</th><th>Telephone</th><th>Foreign Worker</th></tr>\n",
       "    <tr class='coltypes'><td class='row_index'></td><td class='int' title='int32'>&#x25AA;&#x25AA;&#x25AA;&#x25AA;</td><td class='int' title='int32'>&#x25AA;&#x25AA;&#x25AA;&#x25AA;</td><td class='int' title='int32'>&#x25AA;&#x25AA;&#x25AA;&#x25AA;</td><td class='int' title='int32'>&#x25AA;&#x25AA;&#x25AA;&#x25AA;</td><td class='int' title='int32'>&#x25AA;&#x25AA;&#x25AA;&#x25AA;</td><td class='int' title='int32'>&#x25AA;&#x25AA;&#x25AA;&#x25AA;</td><td class='int' title='int32'>&#x25AA;&#x25AA;&#x25AA;&#x25AA;</td><td class='int' title='int32'>&#x25AA;&#x25AA;&#x25AA;&#x25AA;</td><td class='int' title='int32'>&#x25AA;&#x25AA;&#x25AA;&#x25AA;</td><td class='int' title='int32'>&#x25AA;&#x25AA;&#x25AA;&#x25AA;</td><td></td><td class='int' title='int32'>&#x25AA;&#x25AA;&#x25AA;&#x25AA;</td><td class='int' title='int32'>&#x25AA;&#x25AA;&#x25AA;&#x25AA;</td><td class='int' title='int32'>&#x25AA;&#x25AA;&#x25AA;&#x25AA;</td><td class='int' title='int32'>&#x25AA;&#x25AA;&#x25AA;&#x25AA;</td><td class='int' title='int32'>&#x25AA;&#x25AA;&#x25AA;&#x25AA;</td></tr>\n",
       "  </thead>\n",
       "  <tbody>\n",
       "    <tr><td class='row_index'>0</td><td>18</td><td>4</td><td>2</td><td>1049</td><td>1</td><td>2</td><td>4</td><td>2</td><td>1</td><td>4</td><td class=vellipsis>&hellip;</td><td>1</td><td>3</td><td>1</td><td>1</td><td>1</td></tr>\n",
       "    <tr><td class='row_index'>1</td><td>9</td><td>4</td><td>0</td><td>2799</td><td>1</td><td>3</td><td>2</td><td>3</td><td>1</td><td>2</td><td class=vellipsis>&hellip;</td><td>2</td><td>3</td><td>2</td><td>1</td><td>1</td></tr>\n",
       "    <tr><td class='row_index'>2</td><td>12</td><td>2</td><td>9</td><td>841</td><td>2</td><td>4</td><td>2</td><td>2</td><td>1</td><td>4</td><td class=vellipsis>&hellip;</td><td>1</td><td>2</td><td>1</td><td>1</td><td>1</td></tr>\n",
       "    <tr><td class='row_index'>3</td><td>18</td><td>4</td><td>3</td><td>1098</td><td>1</td><td>1</td><td>4</td><td>2</td><td>1</td><td>4</td><td class=vellipsis>&hellip;</td><td>2</td><td>1</td><td>1</td><td>1</td><td>1</td></tr>\n",
       "    <tr><td class='row_index'>4</td><td>24</td><td>2</td><td>3</td><td>3758</td><td>3</td><td>1</td><td>1</td><td>2</td><td>1</td><td>4</td><td class=vellipsis>&hellip;</td><td>1</td><td>1</td><td>1</td><td>1</td><td>1</td></tr>\n",
       "  </tbody>\n",
       "  </table>\n",
       "  <div class='footer'>\n",
       "    <div class='frame_dimensions'>5 rows &times; 19 columns</div>\n",
       "  </div>\n",
       "</div>\n"
      ],
      "text/plain": [
       "<Frame#7fb04c680750 5x19>"
      ]
     },
     "execution_count": 11,
     "metadata": {},
     "output_type": "execute_result"
    }
   ],
   "source": [
    "df6 = dt_df[(dt.f.Purpose != 0) | (dt.f.Occupation == 3), :]\n",
    "df6.head(5)"
   ]
  },
  {
   "cell_type": "markdown",
   "metadata": {},
   "source": [
    "## Creación de nuevas variables con Python"
   ]
  },
  {
   "cell_type": "markdown",
   "metadata": {},
   "source": [
    "Creamos una distancia a la media del importe del crédito:"
   ]
  },
  {
   "cell_type": "code",
   "execution_count": 12,
   "metadata": {},
   "outputs": [],
   "source": [
    "media = dt_df['Credit Amount'].mean()"
   ]
  },
  {
   "cell_type": "code",
   "execution_count": 13,
   "metadata": {},
   "outputs": [],
   "source": [
    "dt_df['dist_media'] = dt_df[:,  dt.f['Credit Amount']/media]"
   ]
  },
  {
   "cell_type": "code",
   "execution_count": 14,
   "metadata": {},
   "outputs": [
    {
     "data": {
      "text/html": [
       "<div class='datatable'>\n",
       "  <table class='frame'>\n",
       "  <thead>\n",
       "    <tr class='colnames'><td class='row_index'></td><th>Duration of Credit (month)</th><th>Payment Status of Previous Credit</th><th>Purpose</th><th>Credit Amount</th><th>Value Savings/Stocks</th><th>Length of current employment</th><th>Instalment per cent</th><th>Sex &amp; Marital Status</th><th>Guarantors</th><th>Duration in Current address</th><th class='vellipsis'>&hellip;</th><th>Occupation</th><th>No of dependents</th><th>Telephone</th><th>Foreign Worker</th><th>dist_media</th></tr>\n",
       "    <tr class='coltypes'><td class='row_index'></td><td class='int' title='int32'>&#x25AA;&#x25AA;&#x25AA;&#x25AA;</td><td class='int' title='int32'>&#x25AA;&#x25AA;&#x25AA;&#x25AA;</td><td class='int' title='int32'>&#x25AA;&#x25AA;&#x25AA;&#x25AA;</td><td class='int' title='int32'>&#x25AA;&#x25AA;&#x25AA;&#x25AA;</td><td class='int' title='int32'>&#x25AA;&#x25AA;&#x25AA;&#x25AA;</td><td class='int' title='int32'>&#x25AA;&#x25AA;&#x25AA;&#x25AA;</td><td class='int' title='int32'>&#x25AA;&#x25AA;&#x25AA;&#x25AA;</td><td class='int' title='int32'>&#x25AA;&#x25AA;&#x25AA;&#x25AA;</td><td class='int' title='int32'>&#x25AA;&#x25AA;&#x25AA;&#x25AA;</td><td class='int' title='int32'>&#x25AA;&#x25AA;&#x25AA;&#x25AA;</td><td></td><td class='int' title='int32'>&#x25AA;&#x25AA;&#x25AA;&#x25AA;</td><td class='int' title='int32'>&#x25AA;&#x25AA;&#x25AA;&#x25AA;</td><td class='int' title='int32'>&#x25AA;&#x25AA;&#x25AA;&#x25AA;</td><td class='int' title='int32'>&#x25AA;&#x25AA;&#x25AA;&#x25AA;</td><td class='float' title='float64'>&#x25AA;&#x25AA;&#x25AA;&#x25AA;&#x25AA;&#x25AA;&#x25AA;&#x25AA;</td></tr>\n",
       "  </thead>\n",
       "  <tbody>\n",
       "    <tr><td class='row_index'>0</td><td>18</td><td>4</td><td>2</td><td>1049</td><td>1</td><td>2</td><td>4</td><td>2</td><td>1</td><td>4</td><td class=vellipsis>&hellip;</td><td>3</td><td>1</td><td>1</td><td>1</td><td>0.320673</td></tr>\n",
       "    <tr><td class='row_index'>1</td><td>9</td><td>4</td><td>0</td><td>2799</td><td>1</td><td>3</td><td>2</td><td>3</td><td>1</td><td>2</td><td class=vellipsis>&hellip;</td><td>3</td><td>2</td><td>1</td><td>1</td><td>0.855637</td></tr>\n",
       "    <tr><td class='row_index'>2</td><td>12</td><td>2</td><td>9</td><td>841</td><td>2</td><td>4</td><td>2</td><td>2</td><td>1</td><td>4</td><td class=vellipsis>&hellip;</td><td>2</td><td>1</td><td>1</td><td>1</td><td>0.257088</td></tr>\n",
       "    <tr><td class='row_index'>3</td><td>12</td><td>4</td><td>0</td><td>2122</td><td>1</td><td>3</td><td>3</td><td>3</td><td>1</td><td>2</td><td class=vellipsis>&hellip;</td><td>2</td><td>2</td><td>1</td><td>2</td><td>0.648682</td></tr>\n",
       "    <tr><td class='row_index'>4</td><td>12</td><td>4</td><td>0</td><td>2171</td><td>1</td><td>3</td><td>4</td><td>3</td><td>1</td><td>4</td><td class=vellipsis>&hellip;</td><td>2</td><td>1</td><td>1</td><td>2</td><td>0.663661</td></tr>\n",
       "  </tbody>\n",
       "  </table>\n",
       "  <div class='footer'>\n",
       "    <div class='frame_dimensions'>5 rows &times; 20 columns</div>\n",
       "  </div>\n",
       "</div>\n"
      ],
      "text/plain": [
       "<Frame#7fb04c6800f0 5x20>"
      ]
     },
     "execution_count": 14,
     "metadata": {},
     "output_type": "execute_result"
    }
   ],
   "source": [
    "dt_df.head(5)"
   ]
  },
  {
   "cell_type": "code",
   "execution_count": 15,
   "metadata": {},
   "outputs": [
    {
     "data": {
      "text/html": [
       "<div class='datatable'>\n",
       "  <table class='frame'>\n",
       "  <thead>\n",
       "    <tr class='colnames'><td class='row_index'></td><th>dist_media</th></tr>\n",
       "    <tr class='coltypes'><td class='row_index'></td><td class='float' title='float64'>&#x25AA;&#x25AA;&#x25AA;&#x25AA;&#x25AA;&#x25AA;&#x25AA;&#x25AA;</td></tr>\n",
       "  </thead>\n",
       "  <tbody>\n",
       "    <tr><td class='row_index'>0</td><td>1</td></tr>\n",
       "  </tbody>\n",
       "  </table>\n",
       "  <div class='footer'>\n",
       "    <div class='frame_dimensions'>1 row &times; 1 column</div>\n",
       "  </div>\n",
       "</div>\n"
      ],
      "text/plain": [
       "<Frame#7fb04c680ed0 1x1>"
      ]
     },
     "execution_count": 15,
     "metadata": {},
     "output_type": "execute_result"
    }
   ],
   "source": [
    "dt_df['dist_media'].mean()"
   ]
  },
  {
   "cell_type": "markdown",
   "metadata": {},
   "source": [
    "En datatable la función ifelse nos permite crear condiciones:"
   ]
  },
  {
   "cell_type": "code",
   "execution_count": 16,
   "metadata": {},
   "outputs": [
    {
     "data": {
      "text/plain": [
       "Expr:mean(<Frame#7fb04c680690 1000x1>; )"
      ]
     },
     "execution_count": 16,
     "metadata": {},
     "output_type": "execute_result"
    }
   ],
   "source": [
    "media = dt.mean(dt_df['Credit Amount'])\n",
    "media"
   ]
  },
  {
   "cell_type": "markdown",
   "metadata": {},
   "source": [
    "Observemos que en este caso no hemos creado un data frame."
   ]
  },
  {
   "cell_type": "code",
   "execution_count": 17,
   "metadata": {},
   "outputs": [],
   "source": [
    "dt_df['Mayor que la media'] = dt.ifelse( dt_df['Credit Amount'] > media , \n",
    "                                        \"Por encima de la media\", \"Por debajo de la media\")"
   ]
  },
  {
   "cell_type": "markdown",
   "metadata": {},
   "source": [
    "## Sumarizar datos"
   ]
  },
  {
   "cell_type": "markdown",
   "metadata": {},
   "source": [
    "La forma más rápida y directa"
   ]
  },
  {
   "cell_type": "code",
   "execution_count": 18,
   "metadata": {},
   "outputs": [
    {
     "data": {
      "text/html": [
       "<div class='datatable'>\n",
       "  <table class='frame'>\n",
       "  <thead>\n",
       "    <tr class='colnames'><td class='row_index'></td><th>Mayor que la media</th><th>Occupation</th></tr>\n",
       "    <tr class='coltypes'><td class='row_index'></td><td class='str' title='str32'>&#x25AA;&#x25AA;&#x25AA;&#x25AA;</td><td class='int' title='int64'>&#x25AA;&#x25AA;&#x25AA;&#x25AA;&#x25AA;&#x25AA;&#x25AA;&#x25AA;</td></tr>\n",
       "  </thead>\n",
       "  <tbody>\n",
       "    <tr><td class='row_index'>0</td><td>Por debajo de la media</td><td>658</td></tr>\n",
       "    <tr><td class='row_index'>1</td><td>Por encima de la media</td><td>342</td></tr>\n",
       "  </tbody>\n",
       "  </table>\n",
       "  <div class='footer'>\n",
       "    <div class='frame_dimensions'>2 rows &times; 2 columns</div>\n",
       "  </div>\n",
       "</div>\n"
      ],
      "text/plain": [
       "<Frame#7fb04c680b40 2x2>"
      ]
     },
     "execution_count": 18,
     "metadata": {},
     "output_type": "execute_result"
    }
   ],
   "source": [
    "dt_df[:, dt.count(dt.f.Occupation), dt.by(dt.f['Mayor que la media'])]"
   ]
  },
  {
   "cell_type": "markdown",
   "metadata": {},
   "source": [
    "Múltiples columnas."
   ]
  },
  {
   "cell_type": "code",
   "execution_count": 26,
   "metadata": {},
   "outputs": [
    {
     "data": {
      "text/html": [
       "<div class='datatable'>\n",
       "  <table class='frame'>\n",
       "  <thead>\n",
       "    <tr class='colnames'><td class='row_index'></td><th>Purpose</th><th>Mayor que la media</th><th>Credit Amount</th></tr>\n",
       "    <tr class='coltypes'><td class='row_index'></td><td class='int' title='int32'>&#x25AA;&#x25AA;&#x25AA;&#x25AA;</td><td class='str' title='str32'>&#x25AA;&#x25AA;&#x25AA;&#x25AA;</td><td class='float' title='float64'>&#x25AA;&#x25AA;&#x25AA;&#x25AA;&#x25AA;&#x25AA;&#x25AA;&#x25AA;</td></tr>\n",
       "  </thead>\n",
       "  <tbody>\n",
       "    <tr><td class='row_index'>0</td><td>0</td><td>Por debajo de la media</td><td>1569.41</td></tr>\n",
       "    <tr><td class='row_index'>1</td><td>0</td><td>Por encima de la media</td><td>6634.45</td></tr>\n",
       "    <tr><td class='row_index'>2</td><td>1</td><td>Por debajo de la media</td><td>2363.53</td></tr>\n",
       "    <tr><td class='row_index'>3</td><td>1</td><td>Por encima de la media</td><td>6725.35</td></tr>\n",
       "    <tr><td class='row_index'>4</td><td>2</td><td>Por debajo de la media</td><td>1969.86</td></tr>\n",
       "  </tbody>\n",
       "  </table>\n",
       "  <div class='footer'>\n",
       "    <div class='frame_dimensions'>5 rows &times; 3 columns</div>\n",
       "  </div>\n",
       "</div>\n"
      ],
      "text/plain": [
       "<Frame#7fb04c67e930 5x3>"
      ]
     },
     "execution_count": 26,
     "metadata": {},
     "output_type": "execute_result"
    }
   ],
   "source": [
    "resumen = dt_df[:, dt.mean(dt.f['Credit Amount']), dt.by(dt.f.Purpose,dt.f['Mayor que la media'])]\n",
    "resumen.head(5)"
   ]
  },
  {
   "cell_type": "markdown",
   "metadata": {},
   "source": [
    "### Renombramos la columna"
   ]
  },
  {
   "cell_type": "code",
   "execution_count": 28,
   "metadata": {},
   "outputs": [
    {
     "data": {
      "text/html": [
       "<div class='datatable'>\n",
       "  <table class='frame'>\n",
       "  <thead>\n",
       "    <tr class='colnames'><td class='row_index'></td><th>Purpose</th><th>Mayor que la media</th><th>Media</th></tr>\n",
       "    <tr class='coltypes'><td class='row_index'></td><td class='int' title='int32'>&#x25AA;&#x25AA;&#x25AA;&#x25AA;</td><td class='str' title='str32'>&#x25AA;&#x25AA;&#x25AA;&#x25AA;</td><td class='float' title='float64'>&#x25AA;&#x25AA;&#x25AA;&#x25AA;&#x25AA;&#x25AA;&#x25AA;&#x25AA;</td></tr>\n",
       "  </thead>\n",
       "  <tbody>\n",
       "    <tr><td class='row_index'>0</td><td>0</td><td>Por debajo de la media</td><td>1569.41</td></tr>\n",
       "    <tr><td class='row_index'>1</td><td>0</td><td>Por encima de la media</td><td>6634.45</td></tr>\n",
       "    <tr><td class='row_index'>2</td><td>1</td><td>Por debajo de la media</td><td>2363.53</td></tr>\n",
       "    <tr><td class='row_index'>3</td><td>1</td><td>Por encima de la media</td><td>6725.35</td></tr>\n",
       "    <tr><td class='row_index'>4</td><td>2</td><td>Por debajo de la media</td><td>1969.86</td></tr>\n",
       "    <tr><td class='row_index'>5</td><td>2</td><td>Por encima de la media</td><td>5072.66</td></tr>\n",
       "    <tr><td class='row_index'>6</td><td>3</td><td>Por debajo de la media</td><td>1676.06</td></tr>\n",
       "    <tr><td class='row_index'>7</td><td>3</td><td>Por encima de la media</td><td>5663</td></tr>\n",
       "    <tr><td class='row_index'>8</td><td>4</td><td>Por debajo de la media</td><td>1271.45</td></tr>\n",
       "    <tr><td class='row_index'>9</td><td>4</td><td>Por encima de la media</td><td>3990</td></tr>\n",
       "  </tbody>\n",
       "  </table>\n",
       "  <div class='footer'>\n",
       "    <div class='frame_dimensions'>10 rows &times; 3 columns</div>\n",
       "  </div>\n",
       "</div>\n"
      ],
      "text/plain": [
       "<Frame#7fb04c67e7e0 10x3>"
      ]
     },
     "execution_count": 28,
     "metadata": {},
     "output_type": "execute_result"
    }
   ],
   "source": [
    "resumen.names = ['Media' if x == 'Credit Amount' else x for x in resumen.names]\n",
    "resumen.head(5)"
   ]
  },
  {
   "cell_type": "markdown",
   "metadata": {},
   "source": [
    "## Ordenar datos"
   ]
  },
  {
   "cell_type": "markdown",
   "metadata": {},
   "source": [
    "Orden ascendente"
   ]
  },
  {
   "cell_type": "code",
   "execution_count": 32,
   "metadata": {},
   "outputs": [
    {
     "data": {
      "text/html": [
       "<div class='datatable'>\n",
       "  <table class='frame'>\n",
       "  <thead>\n",
       "    <tr class='colnames'><td class='row_index'></td><th>Duration of Credit (month)</th><th>Payment Status of Previous Credit</th><th>Purpose</th><th>Credit Amount</th><th>Value Savings/Stocks</th><th>Length of current employment</th><th>Instalment per cent</th><th>Sex &amp; Marital Status</th><th>Guarantors</th><th>Duration in Current address</th><th class='vellipsis'>&hellip;</th><th>No of dependents</th><th>Telephone</th><th>Foreign Worker</th><th>dist_media</th><th>Mayor que la media</th></tr>\n",
       "    <tr class='coltypes'><td class='row_index'></td><td class='int' title='int32'>&#x25AA;&#x25AA;&#x25AA;&#x25AA;</td><td class='int' title='int32'>&#x25AA;&#x25AA;&#x25AA;&#x25AA;</td><td class='int' title='int32'>&#x25AA;&#x25AA;&#x25AA;&#x25AA;</td><td class='int' title='int32'>&#x25AA;&#x25AA;&#x25AA;&#x25AA;</td><td class='int' title='int32'>&#x25AA;&#x25AA;&#x25AA;&#x25AA;</td><td class='int' title='int32'>&#x25AA;&#x25AA;&#x25AA;&#x25AA;</td><td class='int' title='int32'>&#x25AA;&#x25AA;&#x25AA;&#x25AA;</td><td class='int' title='int32'>&#x25AA;&#x25AA;&#x25AA;&#x25AA;</td><td class='int' title='int32'>&#x25AA;&#x25AA;&#x25AA;&#x25AA;</td><td class='int' title='int32'>&#x25AA;&#x25AA;&#x25AA;&#x25AA;</td><td></td><td class='int' title='int32'>&#x25AA;&#x25AA;&#x25AA;&#x25AA;</td><td class='int' title='int32'>&#x25AA;&#x25AA;&#x25AA;&#x25AA;</td><td class='int' title='int32'>&#x25AA;&#x25AA;&#x25AA;&#x25AA;</td><td class='float' title='float64'>&#x25AA;&#x25AA;&#x25AA;&#x25AA;&#x25AA;&#x25AA;&#x25AA;&#x25AA;</td><td class='str' title='str32'>&#x25AA;&#x25AA;&#x25AA;&#x25AA;</td></tr>\n",
       "  </thead>\n",
       "  <tbody>\n",
       "    <tr><td class='row_index'>0</td><td>6</td><td>4</td><td>0</td><td>250</td><td>4</td><td>3</td><td>2</td><td>2</td><td>1</td><td>2</td><td class=vellipsis>&hellip;</td><td>1</td><td>1</td><td>1</td><td>0.0764234</td><td>Por debajo de la media</td></tr>\n",
       "    <tr><td class='row_index'>1</td><td>9</td><td>2</td><td>0</td><td>276</td><td>1</td><td>3</td><td>4</td><td>4</td><td>1</td><td>4</td><td class=vellipsis>&hellip;</td><td>1</td><td>1</td><td>1</td><td>0.0843715</td><td>Por debajo de la media</td></tr>\n",
       "    <tr><td class='row_index'>2</td><td>6</td><td>4</td><td>3</td><td>338</td><td>3</td><td>5</td><td>4</td><td>3</td><td>1</td><td>4</td><td class=vellipsis>&hellip;</td><td>1</td><td>1</td><td>1</td><td>0.103324</td><td>Por debajo de la media</td></tr>\n",
       "    <tr><td class='row_index'>3</td><td>12</td><td>1</td><td>8</td><td>339</td><td>1</td><td>5</td><td>4</td><td>4</td><td>1</td><td>1</td><td class=vellipsis>&hellip;</td><td>1</td><td>1</td><td>1</td><td>0.10363</td><td>Por debajo de la media</td></tr>\n",
       "    <tr><td class='row_index'>4</td><td>6</td><td>2</td><td>4</td><td>343</td><td>1</td><td>2</td><td>4</td><td>2</td><td>1</td><td>1</td><td class=vellipsis>&hellip;</td><td>1</td><td>1</td><td>1</td><td>0.104853</td><td>Por debajo de la media</td></tr>\n",
       "  </tbody>\n",
       "  </table>\n",
       "  <div class='footer'>\n",
       "    <div class='frame_dimensions'>5 rows &times; 21 columns</div>\n",
       "  </div>\n",
       "</div>\n"
      ],
      "text/plain": [
       "<Frame#7fb04c67e2d0 5x21>"
      ]
     },
     "execution_count": 32,
     "metadata": {},
     "output_type": "execute_result"
    }
   ],
   "source": [
    "orden = dt_df.sort('Credit Amount')\n",
    "orden.head(5)"
   ]
  },
  {
   "cell_type": "markdown",
   "metadata": {},
   "source": [
    "Orden descendente"
   ]
  },
  {
   "cell_type": "code",
   "execution_count": 33,
   "metadata": {},
   "outputs": [
    {
     "data": {
      "text/html": [
       "<div class='datatable'>\n",
       "  <table class='frame'>\n",
       "  <thead>\n",
       "    <tr class='colnames'><td class='row_index'></td><th>Duration of Credit (month)</th><th>Payment Status of Previous Credit</th><th>Purpose</th><th>Credit Amount</th><th>Value Savings/Stocks</th><th>Length of current employment</th><th>Instalment per cent</th><th>Sex &amp; Marital Status</th><th>Guarantors</th><th>Duration in Current address</th><th class='vellipsis'>&hellip;</th><th>No of dependents</th><th>Telephone</th><th>Foreign Worker</th><th>dist_media</th><th>Mayor que la media</th></tr>\n",
       "    <tr class='coltypes'><td class='row_index'></td><td class='int' title='int32'>&#x25AA;&#x25AA;&#x25AA;&#x25AA;</td><td class='int' title='int32'>&#x25AA;&#x25AA;&#x25AA;&#x25AA;</td><td class='int' title='int32'>&#x25AA;&#x25AA;&#x25AA;&#x25AA;</td><td class='int' title='int32'>&#x25AA;&#x25AA;&#x25AA;&#x25AA;</td><td class='int' title='int32'>&#x25AA;&#x25AA;&#x25AA;&#x25AA;</td><td class='int' title='int32'>&#x25AA;&#x25AA;&#x25AA;&#x25AA;</td><td class='int' title='int32'>&#x25AA;&#x25AA;&#x25AA;&#x25AA;</td><td class='int' title='int32'>&#x25AA;&#x25AA;&#x25AA;&#x25AA;</td><td class='int' title='int32'>&#x25AA;&#x25AA;&#x25AA;&#x25AA;</td><td class='int' title='int32'>&#x25AA;&#x25AA;&#x25AA;&#x25AA;</td><td></td><td class='int' title='int32'>&#x25AA;&#x25AA;&#x25AA;&#x25AA;</td><td class='int' title='int32'>&#x25AA;&#x25AA;&#x25AA;&#x25AA;</td><td class='int' title='int32'>&#x25AA;&#x25AA;&#x25AA;&#x25AA;</td><td class='float' title='float64'>&#x25AA;&#x25AA;&#x25AA;&#x25AA;&#x25AA;&#x25AA;&#x25AA;&#x25AA;</td><td class='str' title='str32'>&#x25AA;&#x25AA;&#x25AA;&#x25AA;</td></tr>\n",
       "  </thead>\n",
       "  <tbody>\n",
       "    <tr><td class='row_index'>0</td><td>48</td><td>0</td><td>10</td><td>18424</td><td>1</td><td>3</td><td>1</td><td>2</td><td>1</td><td>2</td><td class=vellipsis>&hellip;</td><td>1</td><td>2</td><td>2</td><td>5.6321</td><td>Por encima de la media</td></tr>\n",
       "    <tr><td class='row_index'>1</td><td>54</td><td>0</td><td>9</td><td>15945</td><td>1</td><td>2</td><td>3</td><td>3</td><td>1</td><td>4</td><td class=vellipsis>&hellip;</td><td>1</td><td>2</td><td>1</td><td>4.87429</td><td>Por encima de la media</td></tr>\n",
       "    <tr><td class='row_index'>2</td><td>36</td><td>2</td><td>10</td><td>15857</td><td>1</td><td>1</td><td>2</td><td>1</td><td>2</td><td>3</td><td class=vellipsis>&hellip;</td><td>1</td><td>1</td><td>1</td><td>4.84739</td><td>Por encima de la media</td></tr>\n",
       "    <tr><td class='row_index'>3</td><td>48</td><td>2</td><td>9</td><td>15672</td><td>1</td><td>3</td><td>2</td><td>3</td><td>1</td><td>2</td><td class=vellipsis>&hellip;</td><td>1</td><td>2</td><td>1</td><td>4.79083</td><td>Por encima de la media</td></tr>\n",
       "    <tr><td class='row_index'>4</td><td>60</td><td>3</td><td>3</td><td>15653</td><td>1</td><td>4</td><td>2</td><td>3</td><td>1</td><td>4</td><td class=vellipsis>&hellip;</td><td>1</td><td>2</td><td>1</td><td>4.78502</td><td>Por encima de la media</td></tr>\n",
       "  </tbody>\n",
       "  </table>\n",
       "  <div class='footer'>\n",
       "    <div class='frame_dimensions'>5 rows &times; 21 columns</div>\n",
       "  </div>\n",
       "</div>\n"
      ],
      "text/plain": [
       "<Frame#7fb04c67e630 5x21>"
      ]
     },
     "execution_count": 33,
     "metadata": {},
     "output_type": "execute_result"
    }
   ],
   "source": [
    "orden = dt_df[::-1,:, dt.sort(dt.f['Credit Amount'])]\n",
    "orden.head(5)"
   ]
  }
 ],
 "metadata": {
  "kernelspec": {
   "display_name": "Python 3",
   "language": "python",
   "name": "python3"
  },
  "language_info": {
   "codemirror_mode": {
    "name": "ipython",
    "version": 3
   },
   "file_extension": ".py",
   "mimetype": "text/x-python",
   "name": "python",
   "nbconvert_exporter": "python",
   "pygments_lexer": "ipython3",
   "version": "3.8.5"
  }
 },
 "nbformat": 4,
 "nbformat_minor": 4
}
