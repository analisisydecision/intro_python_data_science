{
 "cells": [
  {
   "cell_type": "markdown",
   "metadata": {},
   "source": [
    "# Lectura de ODBC y Excel"
   ]
  },
  {
   "cell_type": "markdown",
   "metadata": {},
   "source": [
    "## Lectura de SQL Server"
   ]
  },
  {
   "cell_type": "markdown",
   "metadata": {},
   "source": [
    "Este ejemplo no funciona por no disponer de un origen definido en el equipo en el que se realizó el curso, es necesario adaptarlo a las propias necesidades. En la red hay muchos recursos de uso de pyodbc. La utilidad de estas líneas está orientada a marcar unas pautas."
   ]
  },
  {
   "cell_type": "code",
   "execution_count": 2,
   "metadata": {},
   "outputs": [
    {
     "ename": "Error",
     "evalue": "('01000', \"[01000] [unixODBC][Driver Manager]Can't open lib 'ODBC Driver 13 for SQL Server' : file not found (0) (SQLDriverConnect)\")",
     "output_type": "error",
     "traceback": [
      "\u001b[0;31m---------------------------------------------------------------------------\u001b[0m",
      "\u001b[0;31mError\u001b[0m                                     Traceback (most recent call last)",
      "\u001b[0;32m<ipython-input-2-72cae7167c46>\u001b[0m in \u001b[0;36m<module>\u001b[0;34m\u001b[0m\n\u001b[1;32m      2\u001b[0m \u001b[0;32mimport\u001b[0m \u001b[0mpandas\u001b[0m \u001b[0;32mas\u001b[0m \u001b[0mpd\u001b[0m\u001b[0;34m\u001b[0m\u001b[0;34m\u001b[0m\u001b[0m\n\u001b[1;32m      3\u001b[0m \u001b[0;34m\u001b[0m\u001b[0m\n\u001b[0;32m----> 4\u001b[0;31m conexion = pyodbc.connect('Driver={ODBC Driver 13 for SQL Server};'\n\u001b[0m\u001b[1;32m      5\u001b[0m                       \u001b[0;34m'Server=DWH01;'\u001b[0m\u001b[0;34m\u001b[0m\u001b[0;34m\u001b[0m\u001b[0m\n\u001b[1;32m      6\u001b[0m                       'Trusted_Connection=yes;')\n",
      "\u001b[0;31mError\u001b[0m: ('01000', \"[01000] [unixODBC][Driver Manager]Can't open lib 'ODBC Driver 13 for SQL Server' : file not found (0) (SQLDriverConnect)\")"
     ]
    }
   ],
   "source": [
    "import pyodbc \n",
    "import pandas as pd\n",
    "\n",
    "conexion = pyodbc.connect('Driver={ODBC Driver 13 for SQL Server};'\n",
    "                      'Server=Servidor;'\n",
    "                      'Trusted_Connection=yes;')\n",
    "\n",
    "\n",
    "frase = \"SELECT * FROM [BBDD].[dbo].[TABLE]\"\n",
    "data_frame = pd.read_sql_query(frase, conexion)\n",
    "\n",
    "data_frame.head()"
   ]
  },
  {
   "cell_type": "code",
   "execution_count": 21,
   "metadata": {},
   "outputs": [
    {
     "data": {
      "text/html": [
       "<div>\n",
       "<style scoped>\n",
       "    .dataframe tbody tr th:only-of-type {\n",
       "        vertical-align: middle;\n",
       "    }\n",
       "\n",
       "    .dataframe tbody tr th {\n",
       "        vertical-align: top;\n",
       "    }\n",
       "\n",
       "    .dataframe thead th {\n",
       "        text-align: right;\n",
       "    }\n",
       "</style>\n",
       "<table border=\"1\" class=\"dataframe\">\n",
       "  <thead>\n",
       "    <tr style=\"text-align: right;\">\n",
       "      <th></th>\n",
       "      <th>ID_AGENTE</th>\n",
       "      <th>ID_SEGMENTO</th>\n",
       "      <th>clientes</th>\n",
       "      <th>media</th>\n",
       "      <th>necesidad</th>\n",
       "    </tr>\n",
       "  </thead>\n",
       "  <tbody>\n",
       "    <tr>\n",
       "      <th>1</th>\n",
       "      <td>000001</td>\n",
       "      <td>2.0</td>\n",
       "      <td>1448</td>\n",
       "      <td>1451</td>\n",
       "      <td>3</td>\n",
       "    </tr>\n",
       "    <tr>\n",
       "      <th>5</th>\n",
       "      <td>000005</td>\n",
       "      <td>2.0</td>\n",
       "      <td>1448</td>\n",
       "      <td>1451</td>\n",
       "      <td>3</td>\n",
       "    </tr>\n",
       "    <tr>\n",
       "      <th>6</th>\n",
       "      <td>000005</td>\n",
       "      <td>3.0</td>\n",
       "      <td>2760</td>\n",
       "      <td>2768</td>\n",
       "      <td>8</td>\n",
       "    </tr>\n",
       "    <tr>\n",
       "      <th>7</th>\n",
       "      <td>000005</td>\n",
       "      <td>4.0</td>\n",
       "      <td>2163</td>\n",
       "      <td>2166</td>\n",
       "      <td>3</td>\n",
       "    </tr>\n",
       "    <tr>\n",
       "      <th>9</th>\n",
       "      <td>000008</td>\n",
       "      <td>2.0</td>\n",
       "      <td>1450</td>\n",
       "      <td>1451</td>\n",
       "      <td>1</td>\n",
       "    </tr>\n",
       "  </tbody>\n",
       "</table>\n",
       "</div>"
      ],
      "text/plain": [
       "  ID_AGENTE  ID_SEGMENTO  clientes  media  necesidad\n",
       "1    000001          2.0      1448   1451          3\n",
       "5    000005          2.0      1448   1451          3\n",
       "6    000005          3.0      2760   2768          8\n",
       "7    000005          4.0      2163   2166          3\n",
       "9    000008          2.0      1450   1451          1"
      ]
     },
     "execution_count": 21,
     "metadata": {},
     "output_type": "execute_result"
    }
   ],
   "source": [
    "agentes.head()"
   ]
  },
  {
   "cell_type": "markdown",
   "metadata": {},
   "source": [
    "Cuando se trabaja con conexiones a BBDD se recomienda trabajar con campos de texto que llamamos frases, eso nos permitirá parametrizar nuestras consultas. Esto es una recomendación, el trabajo nos hará crear nuestro propio método."
   ]
  },
  {
   "cell_type": "markdown",
   "metadata": {},
   "source": [
    "## Lectura de archivos Excel"
   ]
  },
  {
   "cell_type": "code",
   "execution_count": 4,
   "metadata": {},
   "outputs": [],
   "source": [
    "#Poned el directorio donde os descargáis los datos\n",
    "path = 'https://raw.githubusercontent.com/analisisydecision/intro_python_data_science/master/'\n",
    "#path = \"C:\\\\temp\\\\dataset\\\\\""
   ]
  },
  {
   "cell_type": "code",
   "execution_count": 8,
   "metadata": {},
   "outputs": [
    {
     "data": {
      "text/html": [
       "<div>\n",
       "<style scoped>\n",
       "    .dataframe tbody tr th:only-of-type {\n",
       "        vertical-align: middle;\n",
       "    }\n",
       "\n",
       "    .dataframe tbody tr th {\n",
       "        vertical-align: top;\n",
       "    }\n",
       "\n",
       "    .dataframe thead th {\n",
       "        text-align: right;\n",
       "    }\n",
       "</style>\n",
       "<table border=\"1\" class=\"dataframe\">\n",
       "  <thead>\n",
       "    <tr style=\"text-align: right;\">\n",
       "      <th></th>\n",
       "      <th>v1</th>\n",
       "      <th>v2</th>\n",
       "      <th>v3</th>\n",
       "      <th>v4</th>\n",
       "      <th>v5</th>\n",
       "      <th>v6</th>\n",
       "      <th>v7</th>\n",
       "      <th>v8</th>\n",
       "      <th>v10</th>\n",
       "    </tr>\n",
       "  </thead>\n",
       "  <tbody>\n",
       "    <tr>\n",
       "      <th>count</th>\n",
       "      <td>6.000000</td>\n",
       "      <td>6.000000</td>\n",
       "      <td>6.000000</td>\n",
       "      <td>6.000000</td>\n",
       "      <td>6.000000</td>\n",
       "      <td>6.000000</td>\n",
       "      <td>6.000000</td>\n",
       "      <td>6.000000</td>\n",
       "      <td>6.000000</td>\n",
       "    </tr>\n",
       "    <tr>\n",
       "      <th>mean</th>\n",
       "      <td>56.613926</td>\n",
       "      <td>60.729445</td>\n",
       "      <td>59.566044</td>\n",
       "      <td>47.160427</td>\n",
       "      <td>75.491108</td>\n",
       "      <td>39.221691</td>\n",
       "      <td>33.899958</td>\n",
       "      <td>60.431114</td>\n",
       "      <td>55.574202</td>\n",
       "    </tr>\n",
       "    <tr>\n",
       "      <th>std</th>\n",
       "      <td>32.053366</td>\n",
       "      <td>9.475917</td>\n",
       "      <td>39.315719</td>\n",
       "      <td>39.300259</td>\n",
       "      <td>22.842472</td>\n",
       "      <td>30.329539</td>\n",
       "      <td>37.225663</td>\n",
       "      <td>29.670219</td>\n",
       "      <td>34.899061</td>\n",
       "    </tr>\n",
       "    <tr>\n",
       "      <th>min</th>\n",
       "      <td>24.680706</td>\n",
       "      <td>45.321468</td>\n",
       "      <td>0.011327</td>\n",
       "      <td>11.953578</td>\n",
       "      <td>40.584394</td>\n",
       "      <td>7.897946</td>\n",
       "      <td>1.567631</td>\n",
       "      <td>13.950107</td>\n",
       "      <td>10.414844</td>\n",
       "    </tr>\n",
       "    <tr>\n",
       "      <th>25%</th>\n",
       "      <td>34.302541</td>\n",
       "      <td>55.622327</td>\n",
       "      <td>36.037958</td>\n",
       "      <td>16.225277</td>\n",
       "      <td>61.281814</td>\n",
       "      <td>10.937557</td>\n",
       "      <td>6.172165</td>\n",
       "      <td>44.435228</td>\n",
       "      <td>27.541814</td>\n",
       "    </tr>\n",
       "    <tr>\n",
       "      <th>50%</th>\n",
       "      <td>44.299618</td>\n",
       "      <td>65.078632</td>\n",
       "      <td>65.620825</td>\n",
       "      <td>32.470050</td>\n",
       "      <td>81.782325</td>\n",
       "      <td>41.006728</td>\n",
       "      <td>19.984836</td>\n",
       "      <td>64.870277</td>\n",
       "      <td>69.636993</td>\n",
       "    </tr>\n",
       "    <tr>\n",
       "      <th>75%</th>\n",
       "      <td>84.979813</td>\n",
       "      <td>66.572797</td>\n",
       "      <td>91.784995</td>\n",
       "      <td>80.739533</td>\n",
       "      <td>91.648422</td>\n",
       "      <td>65.660353</td>\n",
       "      <td>54.932571</td>\n",
       "      <td>84.905619</td>\n",
       "      <td>73.780927</td>\n",
       "    </tr>\n",
       "    <tr>\n",
       "      <th>max</th>\n",
       "      <td>96.893555</td>\n",
       "      <td>69.356860</td>\n",
       "      <td>99.459897</td>\n",
       "      <td>98.429173</td>\n",
       "      <td>99.412171</td>\n",
       "      <td>70.626016</td>\n",
       "      <td>93.712689</td>\n",
       "      <td>89.688410</td>\n",
       "      <td>95.084056</td>\n",
       "    </tr>\n",
       "  </tbody>\n",
       "</table>\n",
       "</div>"
      ],
      "text/plain": [
       "             v1          v2         v3         v4         v5         v6  \\\n",
       "count   6.000000   6.000000   6.000000   6.000000   6.000000   6.000000   \n",
       "mean   56.613926  60.729445  59.566044  47.160427  75.491108  39.221691   \n",
       "std    32.053366   9.475917  39.315719  39.300259  22.842472  30.329539   \n",
       "min    24.680706  45.321468   0.011327  11.953578  40.584394   7.897946   \n",
       "25%    34.302541  55.622327  36.037958  16.225277  61.281814  10.937557   \n",
       "50%    44.299618  65.078632  65.620825  32.470050  81.782325  41.006728   \n",
       "75%    84.979813  66.572797  91.784995  80.739533  91.648422  65.660353   \n",
       "max    96.893555  69.356860  99.459897  98.429173  99.412171  70.626016   \n",
       "\n",
       "              v7         v8        v10  \n",
       "count   6.000000   6.000000   6.000000  \n",
       "mean   33.899958  60.431114  55.574202  \n",
       "std    37.225663  29.670219  34.899061  \n",
       "min     1.567631  13.950107  10.414844  \n",
       "25%     6.172165  44.435228  27.541814  \n",
       "50%    19.984836  64.870277  69.636993  \n",
       "75%    54.932571  84.905619  73.780927  \n",
       "max    93.712689  89.688410  95.084056  "
      ]
     },
     "execution_count": 8,
     "metadata": {},
     "output_type": "execute_result"
    }
   ],
   "source": [
    "import pandas as pd\n",
    "\n",
    "archivo = path + 'ejemplo.xlsx'\n",
    "\n",
    "df = pd.read_excel(archivo, sheet_name = 'Hoja1')\n",
    "\n",
    "df.describe()"
   ]
  },
  {
   "cell_type": "markdown",
   "metadata": {},
   "source": [
    "La función read_excel será suficiente en el 80% de las ocasiones que realicemos esta tarea. Como es habitual en la ayuda tenéis perfectamente descritas sus posibilidades."
   ]
  },
  {
   "cell_type": "markdown",
   "metadata": {},
   "source": [
    "### Lectura de Excel con xlrd"
   ]
  },
  {
   "cell_type": "markdown",
   "metadata": {},
   "source": [
    "Es posible que necesitemos realizar tareas más complejas a la hora de leer archivos Excel y podemos usar xlrd. Vemos algunas de las posibilidades:"
   ]
  },
  {
   "cell_type": "code",
   "execution_count": 9,
   "metadata": {},
   "outputs": [],
   "source": [
    "import xlrd "
   ]
  },
  {
   "cell_type": "markdown",
   "metadata": {},
   "source": [
    "En este caso no podemos leer directamente vía web. El archivo deberá estar accesible de forma local. Nos sirve para conocer un método de importación de archivos web con <code>urlretrive</code>."
   ]
  },
  {
   "cell_type": "code",
   "execution_count": 18,
   "metadata": {},
   "outputs": [
    {
     "data": {
      "text/plain": [
       "('ejemplo.xlsx', <http.client.HTTPMessage at 0x116d400d0>)"
      ]
     },
     "execution_count": 18,
     "metadata": {},
     "output_type": "execute_result"
    }
   ],
   "source": [
    "from urllib.request import urlretrieve\n",
    "\n",
    "path = 'https://raw.githubusercontent.com/analisisydecision/intro_python_data_science/master/'\n",
    "link = path + 'ejemplo.xlsx'\n",
    "\n",
    "urlretrieve(link, \"ejemplo.xlsx\")"
   ]
  },
  {
   "cell_type": "code",
   "execution_count": 19,
   "metadata": {},
   "outputs": [
    {
     "name": "stdout",
     "output_type": "stream",
     "text": [
      "7\n",
      "10\n",
      "v1 \n"
     ]
    }
   ],
   "source": [
    "wb = xlrd.open_workbook('ejemplo.xlsx') \n",
    "\n",
    "hoja = wb.sheet_by_index(0) \n",
    "print(hoja.nrows) \n",
    "print(hoja.ncols) \n",
    "print(hoja.cell_value(0, 0))"
   ]
  },
  {
   "cell_type": "markdown",
   "metadata": {},
   "source": [
    "<code>open_workbook</code> nos abre el Excel para trabajar con él. Seleccionamos hojas por índice (empezando por el 0) y con la hoja seleccionada podemos ver el número de filas <code>nrows</code> o columnas <code>ncols</code>. Seleccionar una celda lo hacemos con <code>cell_value</code> mediante índices (empezando por el 0). Otras posibilidades:"
   ]
  },
  {
   "cell_type": "code",
   "execution_count": 20,
   "metadata": {},
   "outputs": [
    {
     "name": "stdout",
     "output_type": "stream",
     "text": [
      "v2\n",
      "66.43982733346411\n",
      "45.321467642456604\n",
      "69.35685954115478\n",
      "63.71743739403397\n",
      "66.6171204219566\n",
      "52.923956832362926\n"
     ]
    }
   ],
   "source": [
    "wb = xlrd.open_workbook('ejemplo.xlsx') \n",
    "\n",
    "hoja = wb.sheet_by_name('Hoja1') \n",
    "for i in range(0,hoja.nrows):\n",
    "    print(hoja.cell_value(i,1))"
   ]
  },
  {
   "cell_type": "markdown",
   "metadata": {},
   "source": [
    "En este caso estamos obteniendo los valores de una columna del Excel. Si deseamos obtener las cabeceras de las columnas podemos hacer: "
   ]
  },
  {
   "cell_type": "code",
   "execution_count": 14,
   "metadata": {},
   "outputs": [
    {
     "name": "stdout",
     "output_type": "stream",
     "text": [
      "[text:'v1 ', text:'v2', text:'v3', text:'v4', text:'v5', text:'v6', text:'v7', text:'v8', text:'v9', text:'v10']\n"
     ]
    }
   ],
   "source": [
    "hoja = wb.sheet_by_index(0) \n",
    "nombres = hoja.row(0)  \n",
    "print(nombres)"
   ]
  },
  {
   "cell_type": "markdown",
   "metadata": {},
   "source": [
    "También mediante xlrd podemos crear data frames de pandas en este caso lo que hacemos son lecturas de rangos:"
   ]
  },
  {
   "cell_type": "code",
   "execution_count": 21,
   "metadata": {},
   "outputs": [
    {
     "data": {
      "text/html": [
       "<div>\n",
       "<style scoped>\n",
       "    .dataframe tbody tr th:only-of-type {\n",
       "        vertical-align: middle;\n",
       "    }\n",
       "\n",
       "    .dataframe tbody tr th {\n",
       "        vertical-align: top;\n",
       "    }\n",
       "\n",
       "    .dataframe thead th {\n",
       "        text-align: right;\n",
       "    }\n",
       "</style>\n",
       "<table border=\"1\" class=\"dataframe\">\n",
       "  <thead>\n",
       "    <tr style=\"text-align: right;\">\n",
       "      <th></th>\n",
       "      <th>0</th>\n",
       "      <th>1</th>\n",
       "    </tr>\n",
       "  </thead>\n",
       "  <tbody>\n",
       "    <tr>\n",
       "      <th>0</th>\n",
       "      <td>96.893555</td>\n",
       "      <td>66.439827</td>\n",
       "    </tr>\n",
       "    <tr>\n",
       "      <th>1</th>\n",
       "      <td>33.873056</td>\n",
       "      <td>45.321468</td>\n",
       "    </tr>\n",
       "    <tr>\n",
       "      <th>2</th>\n",
       "      <td>35.590996</td>\n",
       "      <td>69.356860</td>\n",
       "    </tr>\n",
       "    <tr>\n",
       "      <th>3</th>\n",
       "      <td>24.680706</td>\n",
       "      <td>63.717437</td>\n",
       "    </tr>\n",
       "    <tr>\n",
       "      <th>4</th>\n",
       "      <td>95.637004</td>\n",
       "      <td>66.617120</td>\n",
       "    </tr>\n",
       "  </tbody>\n",
       "</table>\n",
       "</div>"
      ],
      "text/plain": [
       "           0          1\n",
       "0  96.893555  66.439827\n",
       "1  33.873056  45.321468\n",
       "2  35.590996  69.356860\n",
       "3  24.680706  63.717437\n",
       "4  95.637004  66.617120"
      ]
     },
     "execution_count": 21,
     "metadata": {},
     "output_type": "execute_result"
    }
   ],
   "source": [
    "from urllib.request import urlretrieve\n",
    "\n",
    "path = 'https://raw.githubusercontent.com/analisisydecision/intro_python_data_science/master/'\n",
    "link = path + 'ejemplo.xlsx'\n",
    "\n",
    "urlretrieve(link, \"ejemplo.xlsx\")\n",
    "\n",
    "wb = xlrd.open_workbook(\"ejemplo.xlsx\") \n",
    "\n",
    "hoja = wb.sheet_by_index(0) \n",
    "\n",
    "# Creamos listas\n",
    "filas = []\n",
    "for fila in range(1,hoja.nrows):\n",
    "    columnas = []\n",
    "    for columna in range(0,2):\n",
    "        columnas.append(hoja.cell_value(fila,columna))\n",
    "    filas.append(columnas)\n",
    "\n",
    "import pandas as pd\n",
    "df = pd.DataFrame(filas)\n",
    "df.head()"
   ]
  }
 ],
 "metadata": {
  "kernelspec": {
   "display_name": "Python 3",
   "language": "python",
   "name": "python3"
  },
  "language_info": {
   "codemirror_mode": {
    "name": "ipython",
    "version": 3
   },
   "file_extension": ".py",
   "mimetype": "text/x-python",
   "name": "python",
   "nbconvert_exporter": "python",
   "pygments_lexer": "ipython3",
   "version": "3.8.3"
  }
 },
 "nbformat": 4,
 "nbformat_minor": 2
}
